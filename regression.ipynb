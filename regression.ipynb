{
 "cells": [
  {
   "cell_type": "code",
   "execution_count": null,
   "metadata": {
    "collapsed": false
   },
   "outputs": [],
   "source": [
    "import pandas as pd\n",
    "import numpy as np\n",
    "from scipy import stats\n",
    "import seaborn as sns\n",
    "import random\n",
    "import math"
   ]
  },
  {
   "cell_type": "code",
   "execution_count": null,
   "metadata": {
    "collapsed": true
   },
   "outputs": [],
   "source": [
    "DATA_CSV = 'data/ME_clean_nh.csv'"
   ]
  },
  {
   "cell_type": "code",
   "execution_count": null,
   "metadata": {
    "collapsed": true
   },
   "outputs": [],
   "source": [
    "raw_points = pd.read_csv(DATA_CSV, index_col='py')"
   ]
  },
  {
   "cell_type": "code",
   "execution_count": null,
   "metadata": {
    "collapsed": false
   },
   "outputs": [],
   "source": [
    "prev_py = None\n",
    "prev_carb = None\n",
    "data_points = []\n",
    "total_diff_y = 0.0\n",
    "for py, row in raw_points.iterrows():\n",
    "    if (prev_py != None) and (prev_py // 10000 == py // 10000):\n",
    "        data_points.append([prev_carb, row['carb']])\n",
    "        total_diff_y += py - prev_py\n",
    "    prev_py = py\n",
    "    prev_carb = row['carb']\n",
    "total_diff_y /= len(data_points)"
   ]
  },
  {
   "cell_type": "code",
   "execution_count": null,
   "metadata": {
    "collapsed": false
   },
   "outputs": [],
   "source": [
    "df = pd.DataFrame(data_points, columns=['prev', 'post'])\n",
    "g = sns.lmplot(x='prev', y='post', data=df, legend=False)\n",
    "sns.plt.show(g)"
   ]
  },
  {
   "cell_type": "code",
   "execution_count": null,
   "metadata": {
    "collapsed": false
   },
   "outputs": [],
   "source": [
    "training = []\n",
    "test = []\n",
    "prob = 10\n",
    "for point in data_points:\n",
    "    if random.randint(1, prob) == 1:\n",
    "        prob = 10\n",
    "        test.append(point)\n",
    "    else:\n",
    "        prob -= 1\n",
    "        training.append(point)"
   ]
  },
  {
   "cell_type": "code",
   "execution_count": null,
   "metadata": {
    "collapsed": false
   },
   "outputs": [],
   "source": [
    "training = np.array(training)"
   ]
  },
  {
   "cell_type": "code",
   "execution_count": null,
   "metadata": {
    "collapsed": false
   },
   "outputs": [],
   "source": [
    "m = stats.linregress(training).slope\n",
    "n = stats.linregress(training).intercept"
   ]
  },
  {
   "cell_type": "code",
   "execution_count": null,
   "metadata": {
    "collapsed": false
   },
   "outputs": [],
   "source": [
    "sq_error = 0.0\n",
    "for elem in test:\n",
    "    predicted = m * elem[0] + n\n",
    "    actual = elem[1]\n",
    "    sq_error += (actual - predicted) ** 2\n",
    "mse = math.sqrt(sq_error/len(test))"
   ]
  }
 ],
 "metadata": {
  "kernelspec": {
   "display_name": "Python 2",
   "language": "python",
   "name": "python2"
  },
  "language_info": {
   "codemirror_mode": {
    "name": "ipython",
    "version": 2
   },
   "file_extension": ".py",
   "mimetype": "text/x-python",
   "name": "python",
   "nbconvert_exporter": "python",
   "pygments_lexer": "ipython2",
   "version": "2.7.6"
  }
 },
 "nbformat": 4,
 "nbformat_minor": 0
}
