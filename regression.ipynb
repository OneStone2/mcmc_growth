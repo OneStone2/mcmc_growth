{
 "cells": [
  {
   "cell_type": "code",
   "execution_count": null,
   "metadata": {
    "collapsed": false
   },
   "outputs": [],
   "source": [
    "import pandas as pd\n",
    "import numpy as np\n",
    "import seaborn as sns\n",
    "import random\n",
    "import math\n",
    "from sklearn import linear_model\n",
    "from scipy import stats"
   ]
  },
  {
   "cell_type": "code",
   "execution_count": null,
   "metadata": {
    "collapsed": true
   },
   "outputs": [],
   "source": [
    "DATA_CSV = 'data/ME/ME_2a.csv'"
   ]
  },
  {
   "cell_type": "code",
   "execution_count": null,
   "metadata": {
    "collapsed": false
   },
   "outputs": [],
   "source": [
    "data_points = pd.read_csv(DATA_CSV)"
   ]
  },
  {
   "cell_type": "code",
   "execution_count": null,
   "metadata": {
    "collapsed": false
   },
   "outputs": [],
   "source": [
    "nr1 = data_points['carb']\n",
    "nr1 = nr1.iloc[1:len(nr1)]\n",
    "nr2 = data_points['py']\n",
    "nr2 = nr2.iloc[1:len(nr2)]\n",
    "nr3 = data_points['human_p']\n",
    "nr3 = nr3.iloc[1:len(nr3)]\n",
    "nr4 = data_points['human_n']\n",
    "nr4 = nr4.iloc[1:len(nr4)]"
   ]
  },
  {
   "cell_type": "code",
   "execution_count": null,
   "metadata": {
    "collapsed": false
   },
   "outputs": [],
   "source": [
    "data_points = data_points.iloc[0:len(data_points.index)-1]\n",
    "nr1.index = np.arange(len(nr1.index))\n",
    "nr2.index = np.arange(len(nr2.index))\n",
    "nr3.index = np.arange(len(nr3.index))\n",
    "nr4.index = np.arange(len(nr4.index))"
   ]
  },
  {
   "cell_type": "code",
   "execution_count": null,
   "metadata": {
    "collapsed": false
   },
   "outputs": [],
   "source": [
    "data_points.loc[:,'post_py'] = nr2\n",
    "data_points.loc[:,'human_pp'] = nr3\n",
    "data_points.loc[:,'human_nn'] = nr4\n",
    "data_points.loc[:,'growth'] = (nr1 - data_points['carb']) / (data_points['post_py'] - data_points['py'])\n",
    "data_points = data_points[data_points.post_py - data_points.py == 5]\n",
    "data_points.drop(['py','post_py'], axis=1, inplace=True)\n",
    "data_points.drop(['human_p','human_n'], axis=1, inplace=True)\n",
    "data_points.index = np.arange(len(data_points.index))"
   ]
  },
  {
   "cell_type": "code",
   "execution_count": null,
   "metadata": {
    "collapsed": false
   },
   "outputs": [],
   "source": [
    "data_points = data_points.loc[:,['growth','carb','lon','lat']]"
   ]
  },
  {
   "cell_type": "code",
   "execution_count": null,
   "metadata": {
    "collapsed": false
   },
   "outputs": [],
   "source": [
    "points = []\n",
    "for i, point in data_points.iterrows():\n",
    "    points.append([np.array(point.drop('growth')).tolist(), point['growth']])"
   ]
  },
  {
   "cell_type": "code",
   "execution_count": null,
   "metadata": {
    "collapsed": false
   },
   "outputs": [],
   "source": [
    "N_GROUPS = 10\n",
    "random.shuffle(points)\n",
    "groups = []\n",
    "prev_cutoff = 0\n",
    "for i in np.arange(N_GROUPS):\n",
    "    next_cutoff = (i + 1) * len(points) / N_GROUPS\n",
    "    groups.append(points[prev_cutoff:next_cutoff])\n",
    "    prev_cutoff = next_cutoff"
   ]
  },
  {
   "cell_type": "code",
   "execution_count": null,
   "metadata": {
    "collapsed": false
   },
   "outputs": [],
   "source": [
    "min_mse = float(\"inf\")\n",
    "for i in np.arange(N_GROUPS):\n",
    "    training = []\n",
    "    test = []\n",
    "    for j, group in enumerate(groups):\n",
    "        if j==i:\n",
    "            test = group\n",
    "        else:\n",
    "            training.extend(group)\n",
    "    training = np.array(training).T.tolist()\n",
    "    clf = linear_model.LinearRegression()\n",
    "    clf.fit(training[0], training[1])\n",
    "    coef = clf.coef_\n",
    "    cons = clf.intercept_\n",
    "    sq_error = 0.0\n",
    "    for elem in test:\n",
    "        predicted = sum(coef * elem[0]) + cons\n",
    "        actual = elem[1]\n",
    "        sq_error += (actual - predicted) ** 2\n",
    "    mse = math.sqrt(sq_error/len(test))\n",
    "    if mse < min_mse:\n",
    "        min_mse = mse"
   ]
  },
  {
   "cell_type": "code",
   "execution_count": null,
   "metadata": {
    "collapsed": false
   },
   "outputs": [],
   "source": [
    "min_mse"
   ]
  }
 ],
 "metadata": {
  "kernelspec": {
   "display_name": "Python 2",
   "language": "python",
   "name": "python2"
  },
  "language_info": {
   "codemirror_mode": {
    "name": "ipython",
    "version": 2
   },
   "file_extension": ".py",
   "mimetype": "text/x-python",
   "name": "python",
   "nbconvert_exporter": "python",
   "pygments_lexer": "ipython2",
   "version": "2.7.6"
  }
 },
 "nbformat": 4,
 "nbformat_minor": 0
}
