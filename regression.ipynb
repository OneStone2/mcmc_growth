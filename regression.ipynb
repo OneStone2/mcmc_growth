{
 "cells": [
  {
   "cell_type": "code",
   "execution_count": null,
   "metadata": {
    "collapsed": false
   },
   "outputs": [],
   "source": [
    "import pandas as pd\n",
    "import numpy as np\n",
    "import seaborn as sns\n",
    "import random\n",
    "import math\n",
    "from sklearn import linear_model"
   ]
  },
  {
   "cell_type": "code",
   "execution_count": null,
   "metadata": {
    "collapsed": true
   },
   "outputs": [],
   "source": [
    "DATA_CSV = 'data/ME_clean_nh.csv'"
   ]
  },
  {
   "cell_type": "code",
   "execution_count": null,
   "metadata": {
    "collapsed": true
   },
   "outputs": [],
   "source": [
    "raw_points = pd.read_csv(DATA_CSV, index_col='py')"
   ]
  },
  {
   "cell_type": "code",
   "execution_count": null,
   "metadata": {
    "collapsed": false
   },
   "outputs": [],
   "source": [
    "REQ_Y = 5\n",
    "prev_py = None\n",
    "prev_carb = None\n",
    "data_points = []\n",
    "total_diff_y = 0.0\n",
    "for py, row in raw_points.iterrows():\n",
    "    if (prev_py != None) and (prev_py // 10000 == py // 10000) and (py - prev_py == REQ_Y):\n",
    "        data_points.append([[row['lon'], row['lat'], prev_carb], row['carb']])\n",
    "        total_diff_y += py - prev_py\n",
    "    prev_py = py\n",
    "    prev_carb = row['carb']\n",
    "total_diff_y /= len(data_points)"
   ]
  },
  {
   "cell_type": "code",
   "execution_count": null,
   "metadata": {
    "collapsed": false
   },
   "outputs": [],
   "source": [
    "N_GROUPS = 10\n",
    "random.shuffle(data_points)\n",
    "groups = []\n",
    "prev_cutoff = 0\n",
    "for i in np.arange(N_GROUPS):\n",
    "    next_cutoff = (i + 1) * len(data_points) / N_GROUPS\n",
    "    groups.append(data_points[prev_cutoff:next_cutoff])\n",
    "    prev_cutoff = next_cutoff"
   ]
  },
  {
   "cell_type": "code",
   "execution_count": null,
   "metadata": {
    "collapsed": false
   },
   "outputs": [],
   "source": [
    "min_mse = float(\"inf\")\n",
    "for i in np.arange(N_GROUPS):\n",
    "    training = []\n",
    "    test = []\n",
    "    for j, group in enumerate(groups):\n",
    "        if j==i:\n",
    "            test = group\n",
    "        else:\n",
    "            training.extend(group)\n",
    "    training = np.array(training).T.tolist()\n",
    "    clf = linear_model.LinearRegression()\n",
    "    clf.fit(training[0], training[1])\n",
    "    coef = clf.coef_\n",
    "    cons = clf.intercept_\n",
    "    sq_error = 0.0\n",
    "    for elem in test:\n",
    "        predicted = sum(coef * elem[0]) + cons\n",
    "        actual = elem[1]\n",
    "        sq_error += (actual - predicted) ** 2\n",
    "    mse = math.sqrt(sq_error/len(test))\n",
    "    if mse < min_mse:\n",
    "        min_mse = mse"
   ]
  },
  {
   "cell_type": "code",
   "execution_count": null,
   "metadata": {
    "collapsed": false
   },
   "outputs": [],
   "source": [
    "min_mse"
   ]
  }
 ],
 "metadata": {
  "kernelspec": {
   "display_name": "Python 2",
   "language": "python",
   "name": "python2"
  },
  "language_info": {
   "codemirror_mode": {
    "name": "ipython",
    "version": 2
   },
   "file_extension": ".py",
   "mimetype": "text/x-python",
   "name": "python",
   "nbconvert_exporter": "python",
   "pygments_lexer": "ipython2",
   "version": "2.7.6"
  }
 },
 "nbformat": 4,
 "nbformat_minor": 0
}
