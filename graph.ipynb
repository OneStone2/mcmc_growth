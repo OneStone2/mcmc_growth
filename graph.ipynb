{
 "cells": [
  {
   "cell_type": "code",
   "execution_count": 1,
   "metadata": {
    "collapsed": true
   },
   "outputs": [],
   "source": [
    "import random\n",
    "from collections import defaultdict\n",
    "from scipy import stats, linalg\n",
    "from sklearn.cluster import KMeans\n",
    "from sklearn.decomposition import PCA\n",
    "import pandas as pd\n",
    "from pandas import DataFrame, read_csv\n",
    "import numpy as np\n",
    "import seaborn as sns\n",
    "import matplotlib.pyplot as plt\n",
    "from matplotlib.pyplot import hist, scatter"
   ]
  },
  {
   "cell_type": "code",
   "execution_count": 2,
   "metadata": {
    "collapsed": true
   },
   "outputs": [],
   "source": [
    "DATA_CSV = 'data/forest.csv'\n",
    "data_points = pd.read_csv(DATA_CSV, index_col='index')"
   ]
  },
  {
   "cell_type": "code",
   "execution_count": null,
   "metadata": {
    "collapsed": true
   },
   "outputs": [],
   "source": [
    "#Apply Z-score normalization\n",
    "for column in data_points:\n",
    "    data_points[column] = stats.zscore(data_points[column], axis=None)"
   ]
  },
  {
   "cell_type": "code",
   "execution_count": 3,
   "metadata": {
    "collapsed": true
   },
   "outputs": [],
   "source": [
    "#Apply [0,1] normalization\n",
    "for column in data_points:\n",
    "    data_points[column] = (\n",
    "        data_points[column] - min(data_points[column])\n",
    "    ) / (\n",
    "        max(data_points[column]) - min(data_points[column])\n",
    "    )"
   ]
  },
  {
   "cell_type": "code",
   "execution_count": 4,
   "metadata": {
    "collapsed": true
   },
   "outputs": [],
   "source": [
    "#Apply PCA, create the clusters and add some attributes to graph points\n",
    "pca = PCA(n_components='mle')\n",
    "data_pca = pca.fit_transform(data_points)\n",
    "N_CLUSTERS = 20\n",
    "clusters = KMeans(n_clusters=N_CLUSTERS).fit(data_pca)\n",
    "centroids = clusters.cluster_centers_\n",
    "labels = clusters.labels_\n",
    "data_points['clusters'] = labels\n",
    "data_points['plot'] = data_points.index.values / 10000\n",
    "data_points['year'] = data_points.index.values % 10000\n",
    "data_points['color'] = [sns.color_palette('cubehelix',N_CLUSTERS)[x] for x in data_points['clusters']]"
   ]
  },
  {
   "cell_type": "code",
   "execution_count": null,
   "metadata": {
    "collapsed": true
   },
   "outputs": [],
   "source": [
    "g = sns.lmplot(x='iv97.0', y='iv375.0', data=data_points, hue='iv241.0', col='clusters_c', row='clusters_r', palette=sns.color_palette(\"Reds_d\") , legend=False, fit_reg=False)\n",
    "g.show()"
   ]
  },
  {
   "cell_type": "code",
   "execution_count": null,
   "metadata": {
    "collapsed": true
   },
   "outputs": [],
   "source": [
    "g = sns.pointplot(x='year', y='iv375.0', data=data_points.iloc[0:6], hue='plot',  palette=sns.color_palette('cubehelix',5), join=True)\n",
    "g.show()"
   ]
  },
  {
   "cell_type": "code",
   "execution_count": null,
   "metadata": {
    "collapsed": true
   },
   "outputs": [],
   "source": [
    "g = sns.factorplot(x='iv97.0', y='iv375.0', hue='plot', data=data_points.iloc[0:19])\n",
    "g.show()"
   ]
  },
  {
   "cell_type": "code",
   "execution_count": null,
   "metadata": {
    "collapsed": true
   },
   "outputs": [],
   "source": [
    "g = sns.PairGrid(data_points, hue = 'clusters')\n",
    "g = g.map_diag(plt.hist)\n",
    "g = g.map_offdiag(plt.scatter)\n",
    "g.show()"
   ]
  },
  {
   "cell_type": "code",
   "execution_count": 5,
   "metadata": {
    "collapsed": true
   },
   "outputs": [],
   "source": [
    "sub_frame = data_points.iloc[100:140]\n",
    "for key,grp in sub_frame.groupby('plot'):\n",
    "    plt.plot(grp['tpa'], grp['iv12.0'],'o-', label = key)\n",
    "    for i, row in grp.iterrows():\n",
    "        plt.plot(row['tpa'], row['iv12.0'], 'o', markerfacecolor = row['color'])\n",
    "sns.set_palette(sns.color_palette('Set3',12))\n",
    "sns.plt.show()"
   ]
  }
 ],
 "metadata": {
  "kernelspec": {
   "display_name": "Python 2",
   "language": "python",
   "name": "python2"
  },
  "language_info": {
   "codemirror_mode": {
    "name": "ipython",
    "version": 2
   },
   "file_extension": ".py",
   "mimetype": "text/x-python",
   "name": "python",
   "nbconvert_exporter": "python",
   "pygments_lexer": "ipython2",
   "version": "2.7.6"
  }
 },
 "nbformat": 4,
 "nbformat_minor": 0
}
