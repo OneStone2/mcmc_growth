{
 "cells": [
  {
   "cell_type": "code",
   "execution_count": null,
   "metadata": {
    "collapsed": true
   },
   "outputs": [],
   "source": [
    "import random\n",
    "from collections import defaultdict\n",
    "from scipy import stats, linalg\n",
    "from sklearn.cluster import KMeans\n",
    "from sklearn.decomposition import PCA\n",
    "import pandas as pd\n",
    "from pandas import DataFrame, read_csv\n",
    "import numpy as np\n",
    "import seaborn as sns\n",
    "import matplotlib.pyplot as plt\n",
    "from matplotlib.pyplot import hist, scatter"
   ]
  },
  {
   "cell_type": "code",
   "execution_count": null,
   "metadata": {
    "collapsed": true
   },
   "outputs": [],
   "source": [
    "DATA_CSV = 'data/forest.csv'\n",
    "data_points = pd.read_csv(DATA_CSV, index_col='index')\n",
    "orig_cols = data_points.columns"
   ]
  },
  {
   "cell_type": "code",
   "execution_count": null,
   "metadata": {
    "collapsed": true
   },
   "outputs": [],
   "source": [
    "#Apply Z-score normalization\n",
    "for column in data_points:\n",
    "    data_points[column] = stats.zscore(data_points[column], axis=None)"
   ]
  },
  {
   "cell_type": "code",
   "execution_count": null,
   "metadata": {
    "collapsed": true
   },
   "outputs": [],
   "source": [
    "#Apply [0,1] normalization\n",
    "for column in data_points:\n",
    "    data_points[column] = (\n",
    "        data_points[column] - min(data_points[column])\n",
    "    ) / (\n",
    "        max(data_points[column]) - min(data_points[column])\n",
    "    )"
   ]
  },
  {
   "cell_type": "code",
   "execution_count": null,
   "metadata": {
    "collapsed": false
   },
   "outputs": [],
   "source": [
    "#Apply PCA, create the clusters and add columns to ease graphing\n",
    "pca = PCA(n_components='mle')\n",
    "data_pca = pca.fit_transform(data_points)\n",
    "N_CLUSTERS = 20\n",
    "clusters = KMeans(n_clusters=N_CLUSTERS).fit(data_pca)\n",
    "centroids = clusters.cluster_centers_\n",
    "labels = clusters.labels_\n",
    "data_points['clusters'] = labels\n",
    "data_points['plot'] = data_points.index.values / 10000\n",
    "data_points['year'] = data_points.index.values % 10000\n",
    "data_points['color'] = [sns.color_palette('cubehelix',N_CLUSTERS)[x] for x in data_points['clusters']]"
   ]
  },
  {
   "cell_type": "code",
   "execution_count": null,
   "metadata": {
    "collapsed": false
   },
   "outputs": [],
   "source": [
    "#Reset dataframe if you want to re-cluster\n",
    "data_points = data_points.loc[:, orig_cols]"
   ]
  },
  {
   "cell_type": "code",
   "execution_count": null,
   "metadata": {
    "collapsed": true
   },
   "outputs": [],
   "source": [
    "g = sns.lmplot(x='iv97.0', y='iv375.0', data=data_points, hue='iv241.0', col='clusters_c', row='clusters_r', palette=sns.color_palette(\"Reds_d\") , legend=False, fit_reg=False)\n",
    "g.show()"
   ]
  },
  {
   "cell_type": "code",
   "execution_count": null,
   "metadata": {
    "collapsed": true
   },
   "outputs": [],
   "source": [
    "g = sns.pointplot(x='year', y='iv375.0', data=data_points.iloc[0:6], hue='plot',  palette=sns.color_palette('cubehelix',5), join=True)\n",
    "g.show()"
   ]
  },
  {
   "cell_type": "code",
   "execution_count": null,
   "metadata": {
    "collapsed": true
   },
   "outputs": [],
   "source": [
    "g = sns.factorplot(x='iv97.0', y='iv375.0', hue='plot', data=data_points.iloc[0:19])\n",
    "g.show()"
   ]
  },
  {
   "cell_type": "code",
   "execution_count": null,
   "metadata": {
    "collapsed": true
   },
   "outputs": [],
   "source": [
    "g = sns.PairGrid(data_points, hue = 'clusters')\n",
    "g = g.map_diag(plt.hist)\n",
    "g = g.map_offdiag(plt.scatter)\n",
    "g.show()"
   ]
  },
  {
   "cell_type": "code",
   "execution_count": null,
   "metadata": {
    "collapsed": true
   },
   "outputs": [],
   "source": [
    "SUB_FRAME = data_points.iloc[765:798]\n",
    "X = 'ba'\n",
    "Y = 'iv375.0'\n",
    "for key,grp in SUB_FRAME.groupby('plot'): \n",
    "    plt.plot(grp[X], grp[Y],'k-', label = key) \n",
    "    for i, row in grp.iterrows(): \n",
    "        plt.plot(row[X], row[Y], 'o', markerfacecolor = row['color'])\n",
    "plt.xlabel(X)\n",
    "plt.ylabel(Y)\n",
    "sns.plt.show()"
   ]
  }
 ],
 "metadata": {
  "kernelspec": {
   "display_name": "Python 2",
   "language": "python",
   "name": "python2"
  },
  "language_info": {
   "codemirror_mode": {
    "name": "ipython",
    "version": 2
   },
   "file_extension": ".py",
   "mimetype": "text/x-python",
   "name": "python",
   "nbconvert_exporter": "python",
   "pygments_lexer": "ipython2",
   "version": "2.7.6"
  }
 },
 "nbformat": 4,
 "nbformat_minor": 0
}
