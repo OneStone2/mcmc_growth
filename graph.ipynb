{
 "cells": [
  {
   "cell_type": "code",
   "execution_count": null,
   "metadata": {
    "collapsed": true
   },
   "outputs": [],
   "source": [
    "import pandas as pd\n",
    "import numpy as np\n",
    "import seaborn as sns\n",
    "import random\n",
    "import math\n",
    "from sklearn import linear_model"
   ]
  },
  {
   "cell_type": "code",
   "execution_count": null,
   "metadata": {
    "collapsed": true
   },
   "outputs": [],
   "source": [
    "DATA_CSV = 'data/ME_clean_nh.csv'"
   ]
  },
  {
   "cell_type": "code",
   "execution_count": null,
   "metadata": {
    "collapsed": true
   },
   "outputs": [],
   "source": [
    "raw_points = pd.read_csv(DATA_CSV, index_col='py')"
   ]
  },
  {
   "cell_type": "code",
   "execution_count": null,
   "metadata": {
    "collapsed": true
   },
   "outputs": [],
   "source": [
    "REQ_Y = 5\n",
    "prev_py = None\n",
    "prev_carb = None\n",
    "data_points = []\n",
    "total_diff_y = 0.0\n",
    "for py, row in raw_points.iterrows():\n",
    "    #if (prev_py != None) and (prev_py // 10000 == py // 10000):\n",
    "    if (prev_py != None) and (prev_py // 10000 == py // 10000) and (py - prev_py == REQ_Y):\n",
    "        data_points.append([[row['lon'], row['lat'], prev_carb], row['carb']])\n",
    "        total_diff_y += py - prev_py\n",
    "    prev_py = py\n",
    "    prev_carb = row['carb']\n",
    "total_diff_y /= len(data_points)"
   ]
  },
  {
   "cell_type": "code",
   "execution_count": null,
   "metadata": {
    "collapsed": true
   },
   "outputs": [],
   "source": [
    "df = pd.DataFrame(np.array(data_points).T.tolist()[0], columns=['lon', 'lat', 'prev'])\n",
    "df['cur'] = np.array(data_points).T.tolist()[1]\n",
    "df['growth'] = df['cur'] - df['prev']"
   ]
  },
  {
   "cell_type": "code",
   "execution_count": null,
   "metadata": {
    "collapsed": true
   },
   "outputs": [],
   "source": [
    "g = sns.lmplot(x='lon', y='lat', data=df, hue='growth', palette=sns.color_palette(\"BrBG\") , legend=False, fit_reg=False)\n",
    "sns.plt.show(g)"
   ]
  }
 ],
 "metadata": {
  "kernelspec": {
   "display_name": "Python 2",
   "language": "python",
   "name": "python2"
  },
  "language_info": {
   "codemirror_mode": {
    "name": "ipython",
    "version": 2
   },
   "file_extension": ".py",
   "mimetype": "text/x-python",
   "name": "python",
   "nbconvert_exporter": "python",
   "pygments_lexer": "ipython2",
   "version": "2.7.6"
  }
 },
 "nbformat": 4,
 "nbformat_minor": 0
}
