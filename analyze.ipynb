{
 "cells": [
  {
   "cell_type": "code",
   "execution_count": null,
   "metadata": {
    "collapsed": false
   },
   "outputs": [],
   "source": [
    "import random\n",
    "from collections import defaultdict\n",
    "from scipy import stats, linalg\n",
    "from sklearn.cluster import KMeans\n",
    "from sklearn.decomposition import PCA\n",
    "import pandas as pd\n",
    "from pandas import DataFrame, read_csv\n",
    "import numpy as np"
   ]
  },
  {
   "cell_type": "code",
   "execution_count": null,
   "metadata": {
    "collapsed": false
   },
   "outputs": [],
   "source": [
    "DATA_CSV = 'data/forest.csv'\n",
    "data_points = pd.read_csv(DATA_CSV, index_col='index')"
   ]
  },
  {
   "cell_type": "code",
   "execution_count": null,
   "metadata": {
    "collapsed": true
   },
   "outputs": [],
   "source": [
    "#Apply Z-score normalization\n",
    "for column in data_points:\n",
    "    data_points[column] = stats.zscore(data_points[column], axis=None)"
   ]
  },
  {
   "cell_type": "code",
   "execution_count": null,
   "metadata": {
    "collapsed": false
   },
   "outputs": [],
   "source": [
    "#Apply [0,1] normalization\n",
    "for column in data_points:\n",
    "    data_points[column] = (\n",
    "        data_points[column] - min(data_points[column])\n",
    "    ) / (\n",
    "        max(data_points[column]) - min(data_points[column])\n",
    "    )"
   ]
  },
  {
   "cell_type": "code",
   "execution_count": null,
   "metadata": {
    "collapsed": false
   },
   "outputs": [],
   "source": [
    "#Apply PCA\n",
    "pca = PCA(n_components='mle')\n",
    "data_pca = pca.fit_transform(data_points)"
   ]
  },
  {
   "cell_type": "code",
   "execution_count": null,
   "metadata": {
    "collapsed": false
   },
   "outputs": [],
   "source": [
    "#Create the clusters based on the PCA axes\n",
    "N_CLUSTERS = 20\n",
    "clusters = KMeans(n_clusters=N_CLUSTERS).fit(data_pca)\n",
    "centroids = clusters.cluster_centers_\n",
    "labels = clusters.labels_\n",
    "data_points['cluster'] = labels"
   ]
  },
  {
   "cell_type": "code",
   "execution_count": null,
   "metadata": {
    "collapsed": true
   },
   "outputs": [],
   "source": [
    "#Store all the changes of state as 3-tuples\n",
    "#First element: difference in years\n",
    "#Second element: initial state\n",
    "#Third element: final state\n",
    "#Discard all elements whose difference is more than 6 years\n",
    "MAX_TRANS = 6\n",
    "state_changes = []\n",
    "prev_id = None\n",
    "prev_state = None\n",
    "for cur_id, row in data_points.iterrows():\n",
    "    if (prev_id != None) and (prev_id / 10000 == cur_id / 10000):\n",
    "        if cur_id - prev_id <= MAX_TRANS:\n",
    "            new_state_change = (cur_id - prev_id, prev_state, row['cluster'])\n",
    "            state_changes.append(new_state_change)\n",
    "    prev_id = cur_id\n",
    "    prev_state = row['cluster']"
   ]
  },
  {
   "cell_type": "code",
   "execution_count": null,
   "metadata": {
    "collapsed": false
   },
   "outputs": [],
   "source": [
    "#Sort the list of changes of state randomly\n",
    "#From the ordering, draw 10+1 groups and create a series of matrices for each group\n",
    "#One matrix is created for 4-year transitions\n",
    "#Another for 5-year transitions...\n",
    "N_GROUPS = 10\n",
    "random.shuffle(state_changes)\n",
    "group_year = []\n",
    "j = 0\n",
    "for i in np.arange(N_GROUPS + 1):\n",
    "    year_state = []\n",
    "    for j in np.arange(MAX_TRANS + 1):\n",
    "        year_state.append(pd.DataFrame(0, index=np.arange(N_CLUSTERS), columns=np.arange(N_CLUSTERS)))\n",
    "    next_cutoff = (i + 1) * len(state_changes) / (N_GROUPS + 1)\n",
    "    while j < next_cutoff:\n",
    "        cur_change = state_changes[j]\n",
    "        year_state[cur_change[0]].loc[cur_change[1],cur_change[2]] += 1\n",
    "        j += 1\n",
    "    group_year.append(year_state)"
   ]
  },
  {
   "cell_type": "code",
   "execution_count": null,
   "metadata": {
    "collapsed": false
   },
   "outputs": [],
   "source": [
    "#Do bootstrapping removing one of the groups every time\n",
    "#Then, perform chi-square test and keep the best performing group\n",
    "best_m = pd.DataFrame(1.0 / N_CLUSTERS, index=np.arange(N_CLUSTERS), columns=np.arange(N_CLUSTERS))\n",
    "best_p = 0\n",
    "year_sum = []\n",
    "for i in np.arange(MAX_TRANS + 1):\n",
    "    year_sum.append(pd.DataFrame(0, index=np.arange(N_CLUSTERS), columns=np.arange(N_CLUSTERS)))\n",
    "for i in np.arange(MAX_TRANS + 1):\n",
    "    for j in np.arange(MAX_TRANS):\n",
    "        year_sum[j] = year_sum[j] + group_year[i][j]\n",
    "#WIP blah blah blah"
   ]
  },
  {
   "cell_type": "code",
   "execution_count": null,
   "metadata": {
    "collapsed": false
   },
   "outputs": [],
   "source": [
    "#Then, test the best matrix against the 11th group\n",
    "cur_obs = defaultdict(\n",
    "    lambda: pd.DataFrame(\n",
    "        0, index=np.arange(n_clusters),\n",
    "        columns=np.arange(n_clusters)\n",
    "    )\n",
    ")\n",
    "for plot in (plots_dd[x] for x in group[n_buckets]):\n",
    "    prev_y = None\n",
    "    prev_s = None\n",
    "    for year, state in plot:\n",
    "        if prev_y != None:\n",
    "            diff_y = int(float(year - prev_y))\n",
    "            cur_obs[diff_y].loc[prev_s, state] += 1\n",
    "        prev_y = year\n",
    "        prev_s = state\n",
    "exp_arr = []\n",
    "obs_arr = []\n",
    "for diff_y in state_weight:\n",
    "    cur_exp = pd.DataFrame(np.linalg.matrix_power(best, diff_y))\n",
    "    cur_exp = cur_exp.multiply(cur_obs[diff_y].sum(axis=0), axis=1)\n",
    "    #Drop all cells with an expected value of less than 5\n",
    "    #Chi-square relies on having 5 or more data points per cell\n",
    "    #Performance of cells with low probabilities do not affect much the model\n",
    "    for k, row in cur_exp.iterrows():\n",
    "        indices = [l for l, v in enumerate(row) if v >= 5]\n",
    "        for l in indices:\n",
    "            exp_arr.append(cur_exp.iloc[k, l])\n",
    "            obs_arr.append(cur_obs[diff_y].iloc[k, l])\n",
    "print stats.chisquare(obs_arr, exp_arr)[1]\n",
    "best"
   ]
  }
 ],
 "metadata": {
  "kernelspec": {
   "display_name": "Python 2",
   "language": "python",
   "name": "python2"
  },
  "language_info": {
   "codemirror_mode": {
    "name": "ipython",
    "version": 2
   },
   "file_extension": ".py",
   "mimetype": "text/x-python",
   "name": "python",
   "nbconvert_exporter": "python",
   "pygments_lexer": "ipython2",
   "version": "2.7.6"
  }
 },
 "nbformat": 4,
 "nbformat_minor": 0
}
