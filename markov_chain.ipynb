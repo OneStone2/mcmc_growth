{
 "cells": [
  {
   "cell_type": "code",
   "execution_count": null,
   "metadata": {
    "collapsed": false
   },
   "outputs": [],
   "source": [
    "from pandas import DataFrame, read_csv\n",
    "from collections import defaultdict\n",
    "from scipy import stats\n",
    "from sklearn.cluster import KMeans\n",
    "import pandas as pd\n",
    "import numpy as np\n",
    "import json\n",
    "with open('data/centroids.json', 'r') as infile:\n",
    "    centroids = json.load(infile)\n",
    "with open('data/labels.json', 'r') as infile:\n",
    "    labels = json.load(infile)\n",
    "data_csv = 'data/normalized_points.csv'\n",
    "data_points = pd.read_csv(data_csv,header=None)"
   ]
  },
  {
   "cell_type": "code",
   "execution_count": null,
   "metadata": {
    "collapsed": false
   },
   "outputs": [],
   "source": [
    "#Reminder: attributes start their numbering with 2, not 0\n",
    "plots_dd = defaultdict(lambda:[])\n",
    "for i, row in data_points.iterrows():\n",
    "    plots_dd[row[0]].append((row[1],labels[i]))\n",
    "for i in plots_dd:\n",
    "    plots_dd[i].sort()\n",
    "data_points.set_index([0,1],drop=True,inplace=True)"
   ]
  },
  {
   "cell_type": "code",
   "execution_count": null,
   "metadata": {
    "collapsed": false
   },
   "outputs": [],
   "source": [
    "markov_df = pd.DataFrame(0.0, index=np.arange(data_points.shape[1]), columns=np.arange(data_points.shape[1]))\n",
    "for i in plots_dd:\n",
    "    prev_y = -1\n",
    "    prev_s = -1\n",
    "    for elem in plots_dd[i]:\n",
    "        if (prev_y>-1):\n",
    "            markov_df.iloc[prev_s][elem[1]] += 1 - 0.5**(1/(elem[0]-prev_y))\n",
    "        prev_y = elem[0]\n",
    "        prev_s = elem[1]\n",
    "r_sum = markov_df.sum(axis=1)\n",
    "r_sum = r_sum.replace(0.0,1.0)\n",
    "markov_df = markov_df.truediv(r_sum,axis=0)"
   ]
  },
  {
   "cell_type": "code",
   "execution_count": null,
   "metadata": {
    "collapsed": true
   },
   "outputs": [],
   "source": [
    "#mc: DataFrame representing the Markov Chain\n",
    "def fitness(mc):\n",
    "    score = 0.0\n",
    "    num_cases = 0\n",
    "    for i in plots_dd:\n",
    "        prev_y = -1\n",
    "        prev_s = -1\n",
    "        for elem in plots_dd[i]:\n",
    "            if (prev_y>-1):\n",
    "                num_cases+=1\n",
    "                dist = []\n",
    "                cur_v = mc.xs(elem[1])\n",
    "                for c in centroids:\n",
    "                    dist.append(np.linalg.norm(cur_v-c))\n",
    "                score += np.sum(((mc**(elem[0]-prev_y)).xs(prev_s))*dist)\n",
    "            prev_y = elem[0]\n",
    "            prev_s = elem[1]\n",
    "    return score/num_cases"
   ]
  },
  {
   "cell_type": "code",
   "execution_count": null,
   "metadata": {
    "collapsed": false
   },
   "outputs": [],
   "source": [
    "#The fitness function takes 11 seconds to compute, it has to be worked on\n",
    "fitness(markov_df)"
   ]
  }
 ],
 "metadata": {
  "kernelspec": {
   "display_name": "Python 2",
   "language": "python",
   "name": "python2"
  },
  "language_info": {
   "codemirror_mode": {
    "name": "ipython",
    "version": 2
   },
   "file_extension": ".py",
   "mimetype": "text/x-python",
   "name": "python",
   "nbconvert_exporter": "python",
   "pygments_lexer": "ipython2",
   "version": "2.7.6"
  }
 },
 "nbformat": 4,
 "nbformat_minor": 0
}
