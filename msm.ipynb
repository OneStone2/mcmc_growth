{
 "cells": [
  {
   "cell_type": "code",
   "execution_count": null,
   "metadata": {
    "collapsed": false
   },
   "outputs": [],
   "source": [
    "from pandas import DataFrame, read_csv\n",
    "from collections import defaultdict\n",
    "from scipy import stats\n",
    "from sklearn.cluster import KMeans\n",
    "import pandas as pd\n",
    "import numpy as np\n",
    "import json\n",
    "with open('data/centroids.json', 'r') as infile:\n",
    "    centroids = json.load(infile)\n",
    "with open('data/labels.json', 'r') as infile:\n",
    "    labels = json.load(infile)\n",
    "data_csv = 'data/normalized_points.csv'\n",
    "data_points = pd.read_csv(data_csv,header=None)\n",
    "n_clusters=len(centroids)\n",
    "random = pd.DataFrame(1.0/n_clusters, index=np.arange(n_clusters), columns=np.arange(n_clusters))"
   ]
  },
  {
   "cell_type": "code",
   "execution_count": null,
   "metadata": {
    "collapsed": false
   },
   "outputs": [],
   "source": [
    "#Reminder: attributes start their numbering with 2, not 0\n",
    "#This snippet creates the dictionary based on the data_points:\n",
    "\"\"\"\n",
    "plots_dd: {\n",
    "        <plot_num>: [(year,plot_state),...]\n",
    "    }\n",
    "\"\"\"\n",
    "plots_dd = defaultdict(lambda:[])\n",
    "for i, row in data_points.iterrows():\n",
    "    plots_dd[row[0]].append((row[1],labels[i]))\n",
    "for i in plots_dd:\n",
    "    plots_dd[i].sort()\n",
    "data_points.set_index([0,1],drop=True,inplace=True)"
   ]
  },
  {
   "cell_type": "code",
   "execution_count": null,
   "metadata": {
    "collapsed": false
   },
   "outputs": [],
   "source": [
    "#Create the Markov State Matrix\n",
    "#The dimensions of the matrix are the number of clusters\n",
    "markov_df = pd.DataFrame(0.0, index=np.arange(n_clusters), columns=np.arange(n_clusters))\n",
    "for i in plots_dd:\n",
    "    prev_y = None\n",
    "    prev_s = None\n",
    "    for year, state in plots_dd[i]:\n",
    "        if prev_y is not None:\n",
    "            #Record each change of state into the matrix\n",
    "            markov_df.iloc[prev_s][state] += 1 - 0.5**(1/(year-prev_y))                           \n",
    "        prev_y = year\n",
    "        prev_s = state\n",
    "r_sum = markov_df.sum(axis=1)\n",
    "for i, row in markov_df.iterrows():\n",
    "#Some states only appear in the last measurement of some plots.\n",
    "#As such, the row for this state only contains 0.\n",
    "#To avoid buggy behavior, set them as absorbing states and set the probability to 1.\n",
    "    if r_sum[i]==0:\n",
    "        r_sum[i]=1\n",
    "        markov_df.iloc[i,i]=1\n",
    "#Weight each row so all rows sum to 1\n",
    "markov_df = markov_df.truediv(r_sum,axis=0)                                                       "
   ]
  },
  {
   "cell_type": "code",
   "execution_count": null,
   "metadata": {
    "collapsed": false
   },
   "outputs": [],
   "source": [
    "def fitness(msm,plots_dd,centroids,data):\n",
    "    \"\"\"\n",
    "    msm: DataFrame representing the Markov State Matrix\n",
    "    plots_dd: {\n",
    "        <plot_num>: [(year,plot_state),...]\n",
    "    }\n",
    "    centroids stores the coordinates of the cluster centers\n",
    "    data stores the coordinates of each pair (plot, year)\n",
    "    \"\"\"\n",
    "    score = 0.0\n",
    "    num_trans = 0\n",
    "    for plot in plots_dd:\n",
    "        prev_y = None\n",
    "        prev_s = None        \n",
    "        for year, state in plots_dd[plot]:\n",
    "            #The new state can only be predicted if there is data for a previous one\n",
    "            if prev_y is not None:                                       \n",
    "                num_trans += 1\n",
    "                dist = []\n",
    "                #Retrieve the data of the plot that is being analyzed right now\n",
    "                cur_v = data.loc[plot].loc[year]                         \n",
    "                for c in centroids:\n",
    "                #Calculate the distance between each centroid and the actual value\n",
    "                    dist.append(np.linalg.norm(cur_v-c))\n",
    "                #Raise the matrix to the nth power to account for all the years that passed\n",
    "                msm_time = np.linalg.matrix_power(msm,int(year-prev_y))\n",
    "                #Extract the row that corresponds to the current state\n",
    "                r_prob = msm_time[prev_s]\n",
    "                #Multiply each distance by its corresponding probability\n",
    "                score += np.sum(r_prob*dist)                            \n",
    "            prev_y = year\n",
    "            prev_s = state\n",
    "    #The greater this value, the better\n",
    "    return num_trans/score                                               "
   ]
  },
  {
   "cell_type": "code",
   "execution_count": null,
   "metadata": {
    "collapsed": false
   },
   "outputs": [],
   "source": [
    "#This function needs optimization. (14 seconds in Athena computer, using 22 clusters)\n",
    "fitness(markov_df,plots_dd,centroids,data_points)"
   ]
  },
  {
   "cell_type": "code",
   "execution_count": null,
   "metadata": {
    "collapsed": false
   },
   "outputs": [],
   "source": [
    "fitness(random,plots_dd,centroids,data_points)"
   ]
  }
 ],
 "metadata": {
  "kernelspec": {
   "display_name": "Python 2",
   "language": "python",
   "name": "python2"
  },
  "language_info": {
   "codemirror_mode": {
    "name": "ipython",
    "version": 2
   },
   "file_extension": ".py",
   "mimetype": "text/x-python",
   "name": "python",
   "nbconvert_exporter": "python",
   "pygments_lexer": "ipython2",
   "version": "2.7.6"
  }
 },
 "nbformat": 4,
 "nbformat_minor": 0
}
