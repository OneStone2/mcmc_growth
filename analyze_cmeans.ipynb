{
 "cells": [
  {
   "cell_type": "code",
   "execution_count": null,
   "metadata": {
    "collapsed": true
   },
   "outputs": [],
   "source": [
    "import random\n",
    "from collections import defaultdict\n",
    "from scipy import stats, linalg\n",
    "import skfuzzy as fuzz\n",
    "import pandas as pd\n",
    "from pandas import DataFrame, read_csv\n",
    "import numpy as np"
   ]
  },
  {
   "cell_type": "code",
   "execution_count": null,
   "metadata": {
    "collapsed": true
   },
   "outputs": [],
   "source": [
    "def cluster(in_file, norm=None):\n",
    "    data_points = pd.read_csv(in_file, index_col='index')\n",
    "    if norm == 'z_score':\n",
    "        #Apply Z-score normalization\n",
    "        for column in data_points:\n",
    "            data_points[column] = stats.zscore(data_points[column], axis=None)\n",
    "    else:\n",
    "        if norm == 'interval':\n",
    "            #Apply interval normalization\n",
    "            for column in data_points:\n",
    "                data_points[column] = (\n",
    "                    data_points[column] - min(data_points[column])\n",
    "                ) / (\n",
    "                    max(data_points[column]) - min(data_points[column])\n",
    "                )\n",
    "\n",
    "    data_points = data_points.transpose()\n",
    "    fm = fuzz.cluster.cmeans(data_points, c=N_CLUSTERS, m=2, error=0.005, maxiter=1000, init=None)[1]\n",
    "    fm = pd.DataFrame(fm).transpose()\n",
    "    fm.index = data_points.columns\n",
    "    return fm"
   ]
  },
  {
   "cell_type": "code",
   "execution_count": null,
   "metadata": {
    "collapsed": true
   },
   "outputs": [],
   "source": [
    "def test():\n",
    "    \"\"\"\n",
    "    I don't know the correct metric yet\n",
    "    \"\"\"\n",
    "    return 1"
   ]
  },
  {
   "cell_type": "code",
   "execution_count": null,
   "metadata": {
    "collapsed": false
   },
   "outputs": [],
   "source": [
    "def construct_groups(data_points):\n",
    "    \"\"\"\n",
    "    Shuffles all the list of state transitions in 11 different groups.\n",
    "    Returns a list of 11 dataframes with the sum of the transitions recorded.\n",
    "    \"\"\"\n",
    "    #Store all the changes of state as 3-tuples\n",
    "    #First element: difference in years\n",
    "    #Second element: initial state\n",
    "    #Third element: final state\n",
    "    #Discard all elements whose difference is not exactly 5 years\n",
    "    state_changes = []\n",
    "    prev_id = None\n",
    "    prev_state = None\n",
    "    for cur_id, row in data_points.iterrows():\n",
    "        if (prev_id != None) and (prev_id / 10000 == cur_id / 10000):\n",
    "            if cur_id - prev_id == REQ_TRANS:\n",
    "                new_state_change = (cur_id - prev_id, prev_state, row)\n",
    "                state_changes.append(new_state_change)\n",
    "        prev_id = cur_id\n",
    "        prev_state = row\n",
    "    #Sort the list of changes of state randomly\n",
    "    #From the ordering, draw 10+1 groups and create a matrix for each group\n",
    "    random.shuffle(state_changes)\n",
    "    group_year = []\n",
    "    j = 0\n",
    "    for i in np.arange(N_GROUPS + 1):\n",
    "        year_state = pd.DataFrame(0, index=np.arange(N_CLUSTERS), columns=np.arange(N_CLUSTERS))\n",
    "        next_cutoff = (i + 1) * len(state_changes) / (N_GROUPS + 1)\n",
    "        while j < next_cutoff:\n",
    "            cur_change = state_changes[j]\n",
    "            orig = pd.DataFrame(cur_change[1])\n",
    "            fin = pd.DataFrame(cur_change[2]).transpose()\n",
    "            prod = pd.DataFrame(np.dot(orig, fin))\n",
    "            year_state = year_state + prod\n",
    "            j += 1\n",
    "        group_year.append(year_state)\n",
    "    return group_year"
   ]
  },
  {
   "cell_type": "code",
   "execution_count": null,
   "metadata": {
    "collapsed": true
   },
   "outputs": [],
   "source": [
    "def construct_msm(group_year):\n",
    "    \"\"\"\n",
    "    Do bootstrapping removing one of the groups every time.\n",
    "    Then, perform chi-square test and keep the best performing group.\n",
    "    \"\"\"  \n",
    "    best_m = pd.DataFrame()\n",
    "    best_p = 0\n",
    "    year_sum = sum(group_year)\n",
    "    for i in np.arange(N_GROUPS):\n",
    "        group_sum = year_sum - group_year[i]\n",
    "        msm = group_sum.divide(group_sum.sum(axis = 1), axis = 0)\n",
    "        expected = group_year[i]\n",
    "        freq_rows = expected.sum(axis = 1)\n",
    "        expected = expected.divide(freq_rows, axis = 0)\n",
    "        p_value = test()\n",
    "        if p_value > best_p:\n",
    "            best_m = msm\n",
    "            best_p = p_value\n",
    "    return best_m"
   ]
  },
  {
   "cell_type": "code",
   "execution_count": null,
   "metadata": {
    "collapsed": true
   },
   "outputs": [],
   "source": [
    "def validate_msm(msm, test_group):\n",
    "    \"\"\"\n",
    "    Test the obtained Markov state transition model against the final group\n",
    "    \"\"\"\n",
    "    freq_rows = test_group.sum(axis = 1)\n",
    "    expected = test_group.divide(freq_rows, axis = 0)\n",
    "    return test()"
   ]
  },
  {
   "cell_type": "code",
   "execution_count": null,
   "metadata": {
    "collapsed": false
   },
   "outputs": [],
   "source": [
    "REQ_TRANS = 5\n",
    "N_GROUPS = 10\n",
    "N_CLUSTERS = 20\n",
    "data_points = cluster(in_file='data/forest.csv', norm='interval')\n",
    "group_year = construct_groups(data_points)\n",
    "msm = construct_msm(group_year)\n",
    "print validate_msm(msm, group_year[N_GROUPS])"
   ]
  }
 ],
 "metadata": {
  "kernelspec": {
   "display_name": "Python 2",
   "language": "python",
   "name": "python2"
  },
  "language_info": {
   "codemirror_mode": {
    "name": "ipython",
    "version": 2
   },
   "file_extension": ".py",
   "mimetype": "text/x-python",
   "name": "python",
   "nbconvert_exporter": "python",
   "pygments_lexer": "ipython2",
   "version": "2.7.6"
  }
 },
 "nbformat": 4,
 "nbformat_minor": 0
}
