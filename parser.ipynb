{
 "cells": [
  {
   "cell_type": "code",
   "execution_count": null,
   "metadata": {
    "collapsed": true
   },
   "outputs": [],
   "source": [
    "from pandas import DataFrame, read_csv\n",
    "from collections import defaultdict\n",
    "import pandas as pd\n",
    "import numpy as np\n",
    "import math"
   ]
  },
  {
   "cell_type": "code",
   "execution_count": null,
   "metadata": {
    "collapsed": true
   },
   "outputs": [],
   "source": [
    "def area(row):\n",
    "    \"\"\"\n",
    "    Find the DIA parameter of a tree and calculate area\n",
    "    \"\"\"\n",
    "    if np.isnan(row['DIA']):\n",
    "            dia = row['PREVDIA'] if np.isnan(row['DIACALC']) else row['DIACALC']\n",
    "    else:\n",
    "        dia = row['DIA']\n",
    "    return math.pi * ((dia / 2) ** 2) * row['TPA_UNADJ']"
   ]
  },
  {
   "cell_type": "code",
   "execution_count": null,
   "metadata": {
    "collapsed": false
   },
   "outputs": [],
   "source": [
    "class Plot(object):\n",
    "    \"\"\"\n",
    "    Contains all the subplots/trees measured for a particular year on a particular plot.\n",
    "    Internally contains a dataframe of all the trees and their subplots.\n",
    "    Has methods to computer total BA/TPA and species importance values\n",
    "    \"\"\"\n",
    "    def __init__(self, df, py):\n",
    "        self.df = df\n",
    "        self.py = py\n",
    "        self.tpa = None\n",
    "        self.ba = None\n",
    "    \n",
    "    def calc_tpa(self):\n",
    "        \"\"\"\n",
    "        Calculate the TPA for the plot.\n",
    "        \"\"\"\n",
    "        if self.tpa != None:\n",
    "            return self.tpa\n",
    "        total = 0.0\n",
    "        for i, row in self.df.iterrows():\n",
    "            total += row['TPA_UNADJ']\n",
    "        self.tpa = total\n",
    "        return self.tpa\n",
    "    \n",
    "    def calc_ba(self):\n",
    "        \"\"\"\n",
    "        Calculates the total basal area for the plot.\n",
    "        \"\"\"\n",
    "        if self.ba != None:\n",
    "            return self.ba\n",
    "        total = 0.0\n",
    "        for i, row in self.df.iterrows():\n",
    "            total += area(row)\n",
    "        self.ba = total\n",
    "        return self.ba\n",
    "    \n",
    "    def calc_iv(self):\n",
    "        \"\"\"\n",
    "        Calculates all importance values for species in this plot.\n",
    "        Returns:\n",
    "        {\n",
    "            <spp1>: <impval1>,\n",
    "            ...\n",
    "        }\n",
    "        \n",
    "        \"\"\"\n",
    "        \n",
    "        #Element 0 is TPA\n",
    "        #Element 1 is BA\n",
    "        #Element 2 is subplots\n",
    "        param_dd = defaultdict(lambda: [0,0,set()])\n",
    "        for i, row in self.df.iterrows():\n",
    "            param_dd[row['SPCD']][0] += row['TPA_UNADJ']\n",
    "            param_dd[row['SPCD']][1] += area(row)\n",
    "            param_dd[row['SPCD']][2].add(row['SUBP'])\n",
    "        total_subp = set()\n",
    "        for spp in param_dd:\n",
    "            total_subp = total_subp.union(param_dd[spp][2])\n",
    "        sum_freq = 0.0\n",
    "        for spp in param_dd:\n",
    "            param_dd[spp][2] = len(param_dd[spp][2])/float(len(total_subp))\n",
    "            sum_freq += param_dd[spp][2]\n",
    "        for spp in param_dd:\n",
    "            param_dd[spp][0] /= self.calc_tpa()\n",
    "            param_dd[spp][1] /= self.calc_ba()\n",
    "            param_dd[spp][2] /= sum_freq\n",
    "        iv_dd = dict()\n",
    "        for spp in param_dd:\n",
    "            iv_dd['iv'+str(spp)] = sum(param_dd[spp][x] for x in np.arange(3)) / 3.0\n",
    "        return iv_dd\n",
    "          \n",
    "    def plot_stats(self):\n",
    "        \"\"\"\n",
    "        Returns a dictionary of all the plot stats.\n",
    "        Can be used as a row in the dataframe used for clustering\n",
    "        \"\"\"\n",
    "        stats = {\n",
    "            'py': self.py,\n",
    "            'tpa': self.calc_tpa(),\n",
    "            'ba': self.calc_ba(),\n",
    "            'samples': len(self.df.index) \n",
    "        }\n",
    "        stats.update(self.calc_iv())\n",
    "        return stats"
   ]
  },
  {
   "cell_type": "code",
   "execution_count": null,
   "metadata": {
    "collapsed": true
   },
   "outputs": [],
   "source": [
    "def parse(state):\n",
    "    \"\"\"\n",
    "    Takes the raw FIA file and returns a bunch of Plot objects\n",
    "    \"\"\"\n",
    "    FIA_WEB = \"http://apps.fs.fed.us/fiadb-downloads/CSV/\"+state+\"_TREE.csv\"\n",
    "    FIA_COLS = [\n",
    "        'CN','INVYR','PLOT','SUBP','STATUSCD',\n",
    "        'SPCD','DIA','DIACALC','PREVDIA','TPA_UNADJ'\n",
    "    ]\n",
    "\n",
    "    trees_df = pd.read_csv(FIA_WEB, usecols=FIA_COLS, engine='c')/\n",
    "    \n",
    "    trees_df = trees_df[trees_df['STATUSCD'] == 1]\n",
    "    \n",
    "    grouped = trees_df.groupby(['PLOT', 'INVYR'])\n",
    "    for name, group in grouped:\n",
    "        yield Plot(group, name[0] * 10000 + name[1])\n",
    "            \n",
    "def cluster_prep_file(plots, state):\n",
    "    \"\"\"\n",
    "    Given a list of Plot objects, write them to a named CSV\n",
    "    \"\"\"\n",
    "    out_filename = 'data/'+state+'_raw.csv'\n",
    "    df = pd.DataFrame([p.plot_stats() for p in plots])\n",
    "    df = df.fillna(0)\n",
    "    df.to_csv(out_filename, index=False)\n",
    "    return out_filename"
   ]
  },
  {
   "cell_type": "code",
   "execution_count": null,
   "metadata": {
    "collapsed": false
   },
   "outputs": [],
   "source": [
    "STATE = \"ME\"\n",
    "plots = parse(STATE)\n",
    "cluster_prep_file(plots, STATE)"
   ]
  }
 ],
 "metadata": {
  "kernelspec": {
   "display_name": "Python 2",
   "language": "python",
   "name": "python2"
  },
  "language_info": {
   "codemirror_mode": {
    "name": "ipython",
    "version": 2
   },
   "file_extension": ".py",
   "mimetype": "text/x-python",
   "name": "python",
   "nbconvert_exporter": "python",
   "pygments_lexer": "ipython2",
   "version": "2.7.6"
  }
 },
 "nbformat": 4,
 "nbformat_minor": 0
}
