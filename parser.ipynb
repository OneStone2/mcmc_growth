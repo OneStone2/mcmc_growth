{
 "cells": [
  {
   "cell_type": "code",
   "execution_count": 128,
   "metadata": {
    "collapsed": true
   },
   "outputs": [],
   "source": [
    "from pandas import DataFrame, read_csv\n",
    "from collections import defaultdict\n",
    "import pandas as pd\n",
    "import numpy as np\n",
    "import math"
   ]
  },
  {
   "cell_type": "code",
   "execution_count": 101,
   "metadata": {
    "collapsed": false
   },
   "outputs": [],
   "source": [
    "FIA_COLS = [\n",
    "    'CN','PREV_TRE_CN','INVYR','PLOT','SUBP',\n",
    "    'SPGRPCD','DIA','DIACALC','PREVDIA','TPA_UNADJ'\n",
    "]\n",
    "\n",
    "trees_csv = 'data/ME_TREE.csv'\n",
    "trees_df = pd.read_csv(trees_csv, usecols=FIA_COLS)"
   ]
  },
  {
   "cell_type": "code",
   "execution_count": 102,
   "metadata": {
    "collapsed": false
   },
   "outputs": [],
   "source": [
    "#Take the TPA_UNADJ from the same tree from previous years\n",
    "#This step takes a while (25 seconds in Athena computer)\n",
    "cn_tpa = defaultdict(float)\n",
    "for i, row in trees_df.iterrows():\n",
    "    if (np.isnan(row['TPA_UNADJ'])): \n",
    "        trees_df.set_value(i, 'TPA_UNADJ', cn_tpa[row['PREV_TRE_CN']])\n",
    "    cn_tpa[row['CN']] = row['TPA_UNADJ']"
   ]
  },
  {
   "cell_type": "code",
   "execution_count": 103,
   "metadata": {
    "collapsed": false
   },
   "outputs": [],
   "source": [
    "#We don't need CN or PREV_TRE_CN anymore, drop them\n",
    "trees_df.drop(labels=['CN', 'PREV_TRE_CN'], axis=1, inplace=True)"
   ]
  },
  {
   "cell_type": "code",
   "execution_count": 150,
   "metadata": {
    "collapsed": false
   },
   "outputs": [],
   "source": [
    "#Sort data by plot-year so it is easier to retrieve later\n",
    "trees_df.sort_values(by=['PLOT', 'INVYR'], axis=0, inplace=True)"
   ]
  },
  {
   "cell_type": "code",
   "execution_count": 31,
   "metadata": {
    "collapsed": true
   },
   "outputs": [],
   "source": [
    "class pys(object):\n",
    "    \"\"\"The data of a species for a given plot and year.\n",
    "    Attributes:\n",
    "    * num: number of trees\n",
    "    * ba: sum of basal areas\n",
    "    * subp: set of subplots in which the species appears\n",
    "    \"\"\"\n",
    "    def __init__(self):\n",
    "        self.num = 0\n",
    "        self.ba = 0\n",
    "        self.subp = set()\n",
    "    def update(self, tpa, dia, subp):\n",
    "        self.num += tpa\n",
    "        self.ba += math.pi * ((dia / 2) ** 2) * tpa\n",
    "        self.subp.add(subp)\n",
    "        return None\n",
    "    def iv(self, total):\n",
    "        return (self.num / total.num + self.ba / total.ba + len(self.subp) / len(total.subp)) / 3.0"
   ]
  },
  {
   "cell_type": "code",
   "execution_count": 97,
   "metadata": {
    "collapsed": true
   },
   "outputs": [],
   "source": [
    "def fetch_dia(row):\n",
    "    \"\"\"Find the DIA parameter of a tree\n",
    "    \"\"\"\n",
    "    if np.isnan(row['DIA']):\n",
    "            return row['PREVDIA'] if np.isnan(row['DIACALC']) else row['DIACALC']\n",
    "    else:\n",
    "        return row['DIA']"
   ]
  },
  {
   "cell_type": "code",
   "execution_count": 160,
   "metadata": {
    "collapsed": false
   },
   "outputs": [
    {
     "ename": "KeyboardInterrupt",
     "evalue": "",
     "output_type": "error",
     "traceback": [
      "\u001b[1;31m---------------------------------------------------------------------------\u001b[0m",
      "\u001b[1;31mKeyboardInterrupt\u001b[0m                         Traceback (most recent call last)",
      "\u001b[1;32m<ipython-input-160-71236c0c1ea5>\u001b[0m in \u001b[0;36m<module>\u001b[1;34m()\u001b[0m\n\u001b[0;32m     13\u001b[0m         \u001b[1;32mfor\u001b[0m \u001b[0mspp\u001b[0m \u001b[1;32min\u001b[0m \u001b[0mpys_dd\u001b[0m\u001b[1;33m:\u001b[0m\u001b[1;33m\u001b[0m\u001b[0m\n\u001b[0;32m     14\u001b[0m             \u001b[0mvar_l\u001b[0m\u001b[1;33m[\u001b[0m\u001b[1;34m'IV'\u001b[0m\u001b[1;33m+\u001b[0m\u001b[0mstr\u001b[0m\u001b[1;33m(\u001b[0m\u001b[0mspp\u001b[0m\u001b[1;33m)\u001b[0m\u001b[1;33m]\u001b[0m \u001b[1;33m=\u001b[0m \u001b[0mpys_dd\u001b[0m\u001b[1;33m[\u001b[0m\u001b[0mspp\u001b[0m\u001b[1;33m]\u001b[0m\u001b[1;33m.\u001b[0m\u001b[0miv\u001b[0m\u001b[1;33m(\u001b[0m\u001b[0mpys_dd\u001b[0m\u001b[1;33m[\u001b[0m\u001b[1;34m'TOTAL'\u001b[0m\u001b[1;33m]\u001b[0m\u001b[1;33m)\u001b[0m\u001b[1;33m\u001b[0m\u001b[0m\n\u001b[1;32m---> 15\u001b[1;33m         \u001b[0mdata_points\u001b[0m \u001b[1;33m=\u001b[0m \u001b[0mdata_points\u001b[0m\u001b[1;33m.\u001b[0m\u001b[0mappend\u001b[0m\u001b[1;33m(\u001b[0m\u001b[0mpd\u001b[0m\u001b[1;33m.\u001b[0m\u001b[0mDataFrame\u001b[0m\u001b[1;33m(\u001b[0m\u001b[0mvar_l\u001b[0m\u001b[1;33m,\u001b[0m \u001b[0mindex\u001b[0m\u001b[1;33m=\u001b[0m\u001b[1;33m[\u001b[0m\u001b[0mprev_py\u001b[0m\u001b[1;33m]\u001b[0m\u001b[1;33m)\u001b[0m\u001b[1;33m)\u001b[0m\u001b[1;33m\u001b[0m\u001b[0m\n\u001b[0m\u001b[0;32m     16\u001b[0m         \u001b[0mprev_py\u001b[0m \u001b[1;33m=\u001b[0m \u001b[0mcur_py\u001b[0m\u001b[1;33m\u001b[0m\u001b[0m\n\u001b[0;32m     17\u001b[0m         \u001b[0mpys_dd\u001b[0m \u001b[1;33m=\u001b[0m \u001b[0mdefaultdict\u001b[0m\u001b[1;33m(\u001b[0m\u001b[0mpys\u001b[0m\u001b[1;33m)\u001b[0m\u001b[1;33m\u001b[0m\u001b[0m\n",
      "\u001b[1;32m/afs/athena.mit.edu/user/j/a/janoliv/Envs/mcmc_growth/local/lib/python2.7/site-packages/pandas/core/frame.pyc\u001b[0m in \u001b[0;36mappend\u001b[1;34m(self, other, ignore_index, verify_integrity)\u001b[0m\n\u001b[0;32m   4336\u001b[0m             \u001b[0mto_concat\u001b[0m \u001b[1;33m=\u001b[0m \u001b[1;33m[\u001b[0m\u001b[0mself\u001b[0m\u001b[1;33m,\u001b[0m \u001b[0mother\u001b[0m\u001b[1;33m]\u001b[0m\u001b[1;33m\u001b[0m\u001b[0m\n\u001b[0;32m   4337\u001b[0m         return concat(to_concat, ignore_index=ignore_index,\n\u001b[1;32m-> 4338\u001b[1;33m                       verify_integrity=verify_integrity)\n\u001b[0m\u001b[0;32m   4339\u001b[0m \u001b[1;33m\u001b[0m\u001b[0m\n\u001b[0;32m   4340\u001b[0m     def join(self, other, on=None, how='left', lsuffix='', rsuffix='',\n",
      "\u001b[1;32m/afs/athena.mit.edu/user/j/a/janoliv/Envs/mcmc_growth/local/lib/python2.7/site-packages/pandas/tools/merge.pyc\u001b[0m in \u001b[0;36mconcat\u001b[1;34m(objs, axis, join, join_axes, ignore_index, keys, levels, names, verify_integrity, copy)\u001b[0m\n\u001b[0;32m    844\u001b[0m                        \u001b[0mverify_integrity\u001b[0m\u001b[1;33m=\u001b[0m\u001b[0mverify_integrity\u001b[0m\u001b[1;33m,\u001b[0m\u001b[1;33m\u001b[0m\u001b[0m\n\u001b[0;32m    845\u001b[0m                        copy=copy)\n\u001b[1;32m--> 846\u001b[1;33m     \u001b[1;32mreturn\u001b[0m \u001b[0mop\u001b[0m\u001b[1;33m.\u001b[0m\u001b[0mget_result\u001b[0m\u001b[1;33m(\u001b[0m\u001b[1;33m)\u001b[0m\u001b[1;33m\u001b[0m\u001b[0m\n\u001b[0m\u001b[0;32m    847\u001b[0m \u001b[1;33m\u001b[0m\u001b[0m\n\u001b[0;32m    848\u001b[0m \u001b[1;33m\u001b[0m\u001b[0m\n",
      "\u001b[1;32m/afs/athena.mit.edu/user/j/a/janoliv/Envs/mcmc_growth/local/lib/python2.7/site-packages/pandas/tools/merge.pyc\u001b[0m in \u001b[0;36mget_result\u001b[1;34m(self)\u001b[0m\n\u001b[0;32m   1036\u001b[0m                                                   \u001b[0mself\u001b[0m\u001b[1;33m.\u001b[0m\u001b[0mnew_axes\u001b[0m\u001b[1;33m,\u001b[0m\u001b[1;33m\u001b[0m\u001b[0m\n\u001b[0;32m   1037\u001b[0m                                                   \u001b[0mconcat_axis\u001b[0m\u001b[1;33m=\u001b[0m\u001b[0mself\u001b[0m\u001b[1;33m.\u001b[0m\u001b[0maxis\u001b[0m\u001b[1;33m,\u001b[0m\u001b[1;33m\u001b[0m\u001b[0m\n\u001b[1;32m-> 1038\u001b[1;33m                                                   copy=self.copy)\n\u001b[0m\u001b[0;32m   1039\u001b[0m             \u001b[1;32mif\u001b[0m \u001b[1;32mnot\u001b[0m \u001b[0mself\u001b[0m\u001b[1;33m.\u001b[0m\u001b[0mcopy\u001b[0m\u001b[1;33m:\u001b[0m\u001b[1;33m\u001b[0m\u001b[0m\n\u001b[0;32m   1040\u001b[0m                 \u001b[0mnew_data\u001b[0m\u001b[1;33m.\u001b[0m\u001b[0m_consolidate_inplace\u001b[0m\u001b[1;33m(\u001b[0m\u001b[1;33m)\u001b[0m\u001b[1;33m\u001b[0m\u001b[0m\n",
      "\u001b[1;32m/afs/athena.mit.edu/user/j/a/janoliv/Envs/mcmc_growth/local/lib/python2.7/site-packages/pandas/core/internals.pyc\u001b[0m in \u001b[0;36mconcatenate_block_managers\u001b[1;34m(mgrs_indexers, axes, concat_axis, copy)\u001b[0m\n\u001b[0;32m   4538\u001b[0m     concat_plan = combine_concat_plans(\n\u001b[0;32m   4539\u001b[0m         [get_mgr_concatenation_plan(mgr, indexers)\n\u001b[1;32m-> 4540\u001b[1;33m          for mgr, indexers in mgrs_indexers], concat_axis)\n\u001b[0m\u001b[0;32m   4541\u001b[0m \u001b[1;33m\u001b[0m\u001b[0m\n\u001b[0;32m   4542\u001b[0m     blocks = [make_block(concatenate_join_units(join_units, concat_axis,\n",
      "\u001b[1;32m/afs/athena.mit.edu/user/j/a/janoliv/Envs/mcmc_growth/local/lib/python2.7/site-packages/pandas/core/internals.pyc\u001b[0m in \u001b[0;36mget_mgr_concatenation_plan\u001b[1;34m(mgr, indexers)\u001b[0m\n\u001b[0;32m   4676\u001b[0m     \u001b[1;32mif\u001b[0m \u001b[1;36m0\u001b[0m \u001b[1;32min\u001b[0m \u001b[0mindexers\u001b[0m\u001b[1;33m:\u001b[0m\u001b[1;33m\u001b[0m\u001b[0m\n\u001b[0;32m   4677\u001b[0m         \u001b[0max0_indexer\u001b[0m \u001b[1;33m=\u001b[0m \u001b[0mindexers\u001b[0m\u001b[1;33m.\u001b[0m\u001b[0mpop\u001b[0m\u001b[1;33m(\u001b[0m\u001b[1;36m0\u001b[0m\u001b[1;33m)\u001b[0m\u001b[1;33m\u001b[0m\u001b[0m\n\u001b[1;32m-> 4678\u001b[1;33m         \u001b[0mblknos\u001b[0m \u001b[1;33m=\u001b[0m \u001b[0malgos\u001b[0m\u001b[1;33m.\u001b[0m\u001b[0mtake_1d\u001b[0m\u001b[1;33m(\u001b[0m\u001b[0mmgr\u001b[0m\u001b[1;33m.\u001b[0m\u001b[0m_blknos\u001b[0m\u001b[1;33m,\u001b[0m \u001b[0max0_indexer\u001b[0m\u001b[1;33m,\u001b[0m \u001b[0mfill_value\u001b[0m\u001b[1;33m=\u001b[0m\u001b[1;33m-\u001b[0m\u001b[1;36m1\u001b[0m\u001b[1;33m)\u001b[0m\u001b[1;33m\u001b[0m\u001b[0m\n\u001b[0m\u001b[0;32m   4679\u001b[0m         \u001b[0mblklocs\u001b[0m \u001b[1;33m=\u001b[0m \u001b[0malgos\u001b[0m\u001b[1;33m.\u001b[0m\u001b[0mtake_1d\u001b[0m\u001b[1;33m(\u001b[0m\u001b[0mmgr\u001b[0m\u001b[1;33m.\u001b[0m\u001b[0m_blklocs\u001b[0m\u001b[1;33m,\u001b[0m \u001b[0max0_indexer\u001b[0m\u001b[1;33m,\u001b[0m \u001b[0mfill_value\u001b[0m\u001b[1;33m=\u001b[0m\u001b[1;33m-\u001b[0m\u001b[1;36m1\u001b[0m\u001b[1;33m)\u001b[0m\u001b[1;33m\u001b[0m\u001b[0m\n\u001b[0;32m   4680\u001b[0m     \u001b[1;32melse\u001b[0m\u001b[1;33m:\u001b[0m\u001b[1;33m\u001b[0m\u001b[0m\n",
      "\u001b[1;32m/afs/athena.mit.edu/user/j/a/janoliv/Envs/mcmc_growth/local/lib/python2.7/site-packages/pandas/core/algorithms.pyc\u001b[0m in \u001b[0;36mtake_nd\u001b[1;34m(arr, indexer, axis, out, fill_value, mask_info, allow_fill)\u001b[0m\n\u001b[0;32m    886\u001b[0m             \u001b[1;31m# check for promotion based on types only (do this first because\u001b[0m\u001b[1;33m\u001b[0m\u001b[1;33m\u001b[0m\u001b[0m\n\u001b[0;32m    887\u001b[0m             \u001b[1;31m# it's faster than computing a mask)\u001b[0m\u001b[1;33m\u001b[0m\u001b[1;33m\u001b[0m\u001b[0m\n\u001b[1;32m--> 888\u001b[1;33m             \u001b[0mdtype\u001b[0m\u001b[1;33m,\u001b[0m \u001b[0mfill_value\u001b[0m \u001b[1;33m=\u001b[0m \u001b[0mcom\u001b[0m\u001b[1;33m.\u001b[0m\u001b[0m_maybe_promote\u001b[0m\u001b[1;33m(\u001b[0m\u001b[0marr\u001b[0m\u001b[1;33m.\u001b[0m\u001b[0mdtype\u001b[0m\u001b[1;33m,\u001b[0m \u001b[0mfill_value\u001b[0m\u001b[1;33m)\u001b[0m\u001b[1;33m\u001b[0m\u001b[0m\n\u001b[0m\u001b[0;32m    889\u001b[0m             \u001b[1;32mif\u001b[0m \u001b[0mdtype\u001b[0m \u001b[1;33m!=\u001b[0m \u001b[0marr\u001b[0m\u001b[1;33m.\u001b[0m\u001b[0mdtype\u001b[0m \u001b[1;32mand\u001b[0m \u001b[1;33m(\u001b[0m\u001b[0mout\u001b[0m \u001b[1;32mis\u001b[0m \u001b[0mNone\u001b[0m \u001b[1;32mor\u001b[0m \u001b[0mout\u001b[0m\u001b[1;33m.\u001b[0m\u001b[0mdtype\u001b[0m \u001b[1;33m!=\u001b[0m \u001b[0mdtype\u001b[0m\u001b[1;33m)\u001b[0m\u001b[1;33m:\u001b[0m\u001b[1;33m\u001b[0m\u001b[0m\n\u001b[0;32m    890\u001b[0m                 \u001b[1;31m# check if promotion is actually required based on indexer\u001b[0m\u001b[1;33m\u001b[0m\u001b[1;33m\u001b[0m\u001b[0m\n",
      "\u001b[1;32m/afs/athena.mit.edu/user/j/a/janoliv/Envs/mcmc_growth/local/lib/python2.7/site-packages/pandas/core/common.pyc\u001b[0m in \u001b[0;36m_maybe_promote\u001b[1;34m(dtype, fill_value)\u001b[0m\n\u001b[0;32m    574\u001b[0m             \u001b[0mdtype\u001b[0m \u001b[1;33m=\u001b[0m \u001b[0mnp\u001b[0m\u001b[1;33m.\u001b[0m\u001b[0mobject_\u001b[0m\u001b[1;33m\u001b[0m\u001b[0m\n\u001b[0;32m    575\u001b[0m     \u001b[1;32melif\u001b[0m \u001b[0mis_integer\u001b[0m\u001b[1;33m(\u001b[0m\u001b[0mfill_value\u001b[0m\u001b[1;33m)\u001b[0m\u001b[1;33m:\u001b[0m\u001b[1;33m\u001b[0m\u001b[0m\n\u001b[1;32m--> 576\u001b[1;33m         \u001b[1;32mif\u001b[0m \u001b[0missubclass\u001b[0m\u001b[1;33m(\u001b[0m\u001b[0mdtype\u001b[0m\u001b[1;33m.\u001b[0m\u001b[0mtype\u001b[0m\u001b[1;33m,\u001b[0m \u001b[0mnp\u001b[0m\u001b[1;33m.\u001b[0m\u001b[0mbool_\u001b[0m\u001b[1;33m)\u001b[0m\u001b[1;33m:\u001b[0m\u001b[1;33m\u001b[0m\u001b[0m\n\u001b[0m\u001b[0;32m    577\u001b[0m             \u001b[0mdtype\u001b[0m \u001b[1;33m=\u001b[0m \u001b[0mnp\u001b[0m\u001b[1;33m.\u001b[0m\u001b[0mobject_\u001b[0m\u001b[1;33m\u001b[0m\u001b[0m\n\u001b[0;32m    578\u001b[0m         \u001b[1;32melif\u001b[0m \u001b[0missubclass\u001b[0m\u001b[1;33m(\u001b[0m\u001b[0mdtype\u001b[0m\u001b[1;33m.\u001b[0m\u001b[0mtype\u001b[0m\u001b[1;33m,\u001b[0m \u001b[0mnp\u001b[0m\u001b[1;33m.\u001b[0m\u001b[0minteger\u001b[0m\u001b[1;33m)\u001b[0m\u001b[1;33m:\u001b[0m\u001b[1;33m\u001b[0m\u001b[0m\n",
      "\u001b[1;31mKeyboardInterrupt\u001b[0m: "
     ]
    }
   ],
   "source": [
    "#This seems to be reaaaaaaaally slow\n",
    "data_points = pd.DataFrame()\n",
    "pys_dd = defaultdict(pys)\n",
    "prev_py = trees_df.loc[0, 'PLOT'] * 10000 + trees_df.loc[0, 'INVYR']\n",
    "for i, row in trees_df.iterrows():\n",
    "    cur_py = int(row['PLOT'] * 10000 + row['INVYR'])\n",
    "    if prev_py == cur_py:\n",
    "        pys_dd[row['SPGRPCD']].update(row['TPA_UNADJ'], fetch_dia(row), row['SUBP'])\n",
    "        pys_dd['TOTAL'].update(row['TPA_UNADJ'], fetch_dia(row), row['SUBP'])\n",
    "    else:       \n",
    "        var_l = defaultdict(float)       \n",
    "        var_l['NUM'] = pys_dd['TOTAL'].num\n",
    "        var_l['BA'] = pys_dd['TOTAL'].ba\n",
    "        for spp in pys_dd:\n",
    "            var_l['IV'+str(spp)] = pys_dd[spp].iv(pys_dd['TOTAL'])\n",
    "        data_points = data_points.append(pd.DataFrame(var_l, index=[prev_py]))\n",
    "        prev_py = cur_py\n",
    "        pys_dd = defaultdict(pys)\n",
    "        pys_dd[row['SPGRPCD']].update(row['TPA_UNADJ'], fetch_dia(row), row['SUBP'])\n",
    "        pys_dd['TOTAL'].update(row['TPA_UNADJ'], fetch_dia(row), row['SUBP'])\n",
    "var_l = defaultdict(float)       \n",
    "var_l['NUM'] = pys_dd['TOTAL'].num\n",
    "var_l['BA'] = pys_dd['TOTAL'].ba\n",
    "for spp in pys_dd:\n",
    "    var_l['IV'+str(spp)] = pys_dd[spp].iv(pys_dd['TOTAL'])\n",
    "data_points = data_points.append(pd.DataFrame(var_l, index=[cur_py]))\n",
    "data_points.fillna(0)"
   ]
  }
 ],
 "metadata": {
  "kernelspec": {
   "display_name": "Python 2",
   "language": "python",
   "name": "python2"
  },
  "language_info": {
   "codemirror_mode": {
    "name": "ipython",
    "version": 2
   },
   "file_extension": ".py",
   "mimetype": "text/x-python",
   "name": "python",
   "nbconvert_exporter": "python",
   "pygments_lexer": "ipython2",
   "version": "2.7.6"
  }
 },
 "nbformat": 4,
 "nbformat_minor": 0
}
