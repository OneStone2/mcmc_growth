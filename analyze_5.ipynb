{
 "cells": [
  {
   "cell_type": "code",
   "execution_count": null,
   "metadata": {
    "collapsed": true
   },
   "outputs": [],
   "source": [
    "import random\n",
    "from collections import defaultdict\n",
    "from scipy import stats, linalg\n",
    "from sklearn.cluster import KMeans\n",
    "from sklearn.decomposition import PCA\n",
    "import pandas as pd\n",
    "from pandas import DataFrame, read_csv\n",
    "import numpy as np"
   ]
  },
  {
   "cell_type": "code",
   "execution_count": null,
   "metadata": {
    "collapsed": false
   },
   "outputs": [],
   "source": [
    "def cluster(in_file, norm=None):\n",
    "    data_points = pd.read_csv(in_file, index_col='index')\n",
    "    if norm == 'z_score':\n",
    "        #Apply Z-score normalization\n",
    "        for column in data_points:\n",
    "            data_points[column] = stats.zscore(data_points[column], axis=None)\n",
    "    else:\n",
    "        if norm == 'interval':\n",
    "            #Apply interval normalization\n",
    "            for column in data_points:\n",
    "                data_points[column] = (\n",
    "                    data_points[column] - min(data_points[column])\n",
    "                ) / (\n",
    "                    max(data_points[column]) - min(data_points[column])\n",
    "                )\n",
    "    #Apply PCA\n",
    "    pca = PCA(n_components='mle')\n",
    "    data_pca = pca.fit_transform(data_points)\n",
    "    #Create the clusters based on the PCA axes\n",
    "    clusters = KMeans(n_clusters=N_CLUSTERS).fit(data_pca)\n",
    "    centroids = clusters.cluster_centers_\n",
    "    labels = clusters.labels_\n",
    "    data_points['cluster'] = labels\n",
    "    return data_points"
   ]
  },
  {
   "cell_type": "code",
   "execution_count": null,
   "metadata": {
    "collapsed": true
   },
   "outputs": [],
   "source": [
    "def test(observed, expected, freq_e):\n",
    "    \"\"\"\n",
    "    Take the observed and expected Markov state transition models and checks how different they are.\n",
    "    Inputs must be square matrices with the frequencies.\n",
    "    Use the chi-square test.\n",
    "    Ignore expected values of less than 1.\n",
    "    Success if returns greater than 0.05.\n",
    "    \"\"\"\n",
    "    MIN_SIG = 1\n",
    "    exp_arr = []\n",
    "    obs_arr = []\n",
    "    for i, row in expected.iterrows():\n",
    "        for j, elem in enumerate(row):\n",
    "            if elem * freq_e[i] >= MIN_SIG:\n",
    "                exp_arr.append(expected.loc[i][j])\n",
    "                obs_arr.append(observed.loc[i][j])\n",
    "    return stats.chisquare(obs_arr, exp_arr, axis=None, ddof = len(observed.columns) - 1)[1]"
   ]
  },
  {
   "cell_type": "code",
   "execution_count": null,
   "metadata": {
    "collapsed": false
   },
   "outputs": [],
   "source": [
    "def construct_groups(data_points):\n",
    "    \"\"\"\n",
    "    Shuffles all the list of state transitions in 11 different groups.\n",
    "    Returns a list of 11 dataframes with the sum of the transitions recorded.\n",
    "    \"\"\"\n",
    "    #Store all the changes of state as 3-tuples\n",
    "    #First element: difference in years\n",
    "    #Second element: initial state\n",
    "    #Third element: final state\n",
    "    #Discard all elements whose difference is not exactly 5 years\n",
    "    state_changes = []\n",
    "    prev_id = None\n",
    "    prev_state = None\n",
    "    for cur_id, row in data_points.iterrows():\n",
    "        if (prev_id != None) and (prev_id / 10000 == cur_id / 10000):\n",
    "            if cur_id - prev_id == REQ_TRANS:\n",
    "                new_state_change = (cur_id - prev_id, prev_state, row['cluster'])\n",
    "                state_changes.append(new_state_change)\n",
    "        prev_id = cur_id\n",
    "        prev_state = row['cluster']\n",
    "    #Sort the list of changes of state randomly\n",
    "    #From the ordering, draw 10+1 groups and create a matrix for each group\n",
    "    random.shuffle(state_changes)\n",
    "    group_year = []\n",
    "    j = 0\n",
    "    for i in np.arange(N_GROUPS + 1):\n",
    "        year_state = pd.DataFrame(0, index=np.arange(N_CLUSTERS), columns=np.arange(N_CLUSTERS))\n",
    "        next_cutoff = (i + 1) * len(state_changes) / (N_GROUPS + 1)\n",
    "        while j < next_cutoff:\n",
    "            cur_change = state_changes[j]\n",
    "            year_state.loc[cur_change[1],cur_change[2]] += 1\n",
    "            j += 1\n",
    "        group_year.append(year_state)\n",
    "    return group_year"
   ]
  },
  {
   "cell_type": "code",
   "execution_count": null,
   "metadata": {
    "collapsed": false
   },
   "outputs": [],
   "source": [
    "def construct_msm(group_year):\n",
    "    \"\"\"\n",
    "    Do bootstrapping removing one of the groups every time.\n",
    "    Then, perform chi-square test and keep the best performing group.\n",
    "    \"\"\"  \n",
    "    best_m = pd.DataFrame()\n",
    "    best_p = 0\n",
    "    year_sum = sum(group_year)\n",
    "    for i in np.arange(N_GROUPS):\n",
    "        group_sum = year_sum - group_year[i]\n",
    "        msm = group_sum.divide(group_sum.sum(axis = 1), axis = 0)\n",
    "        expected = group_year[i]\n",
    "        freq_rows = expected.sum(axis = 1)\n",
    "        expected = expected.divide(freq_rows, axis = 0)\n",
    "        p_value = test(msm, expected, freq_rows)\n",
    "        if p_value > best_p:\n",
    "            best_m = msm\n",
    "            best_p = p_value\n",
    "    return best_m"
   ]
  },
  {
   "cell_type": "code",
   "execution_count": null,
   "metadata": {
    "collapsed": false
   },
   "outputs": [],
   "source": [
    "def validate_msm(msm, test_group):\n",
    "    \"\"\"\n",
    "    Test the obtained Markov state transition model against the final group\n",
    "    \"\"\"\n",
    "    freq_rows = test_group.sum(axis = 1)\n",
    "    expected = test_group.divide(freq_rows, axis = 0)\n",
    "    return test(msm, expected, freq_rows)"
   ]
  },
  {
   "cell_type": "code",
   "execution_count": null,
   "metadata": {
    "collapsed": false
   },
   "outputs": [],
   "source": [
    "REQ_TRANS = 5\n",
    "N_GROUPS = 10\n",
    "N_CLUSTERS = 20\n",
    "data_points = cluster(in_file='data/forest.csv', norm='interval')\n",
    "group_year = construct_groups(data_points)\n",
    "msm = construct_msm(group_year)\n",
    "print validate_msm(msm, group_year[N_GROUPS])"
   ]
  }
 ],
 "metadata": {
  "kernelspec": {
   "display_name": "Python 2",
   "language": "python",
   "name": "python2"
  },
  "language_info": {
   "codemirror_mode": {
    "name": "ipython",
    "version": 2
   },
   "file_extension": ".py",
   "mimetype": "text/x-python",
   "name": "python",
   "nbconvert_exporter": "python",
   "pygments_lexer": "ipython2",
   "version": "2.7.6"
  }
 },
 "nbformat": 4,
 "nbformat_minor": 0
}
