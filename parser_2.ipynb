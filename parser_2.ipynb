{
 "cells": [
  {
   "cell_type": "code",
   "execution_count": null,
   "metadata": {
    "collapsed": false
   },
   "outputs": [],
   "source": [
    "from pandas import DataFrame, read_csv\n",
    "from collections import defaultdict\n",
    "import pandas as pd\n",
    "import numpy as np\n",
    "\n",
    "location = 'data/ME_TREE.csv'\n",
    "trees_df = pd.read_csv(location,usecols={'INVYR','PLOT','SUBP','SPGRPCD','DIA','DIACALC','PREVDIA'})"
   ]
  },
  {
   "cell_type": "code",
   "execution_count": null,
   "metadata": {
    "collapsed": false
   },
   "outputs": [],
   "source": [
    "#All defaultdicts are indexed plot number->year->(species)->value\n",
    "#plot_n stores the number of trees (density)\n",
    "#plot_a stores the sum of the basal areas (area)\n",
    "#plot_s stores the subplots where a species appears\n",
    "#plot_st stores the subplots in which a plot is divided into\n",
    "#s_spec stores the list of species numbers\n",
    "#This step takes a while (110 seconds in Athena computer)\n",
    "plot_n=defaultdict(lambda:defaultdict(lambda:defaultdict(int)))\n",
    "plot_a=defaultdict(lambda:defaultdict(lambda:defaultdict(float)))\n",
    "plot_s=defaultdict(lambda:defaultdict(lambda:defaultdict(set)))\n",
    "plot_st=defaultdict(lambda:defaultdict(set))\n",
    "for i,row in trees_df.iterrows():\n",
    "    plot_n[row['PLOT']][row['INVYR']]['TOTAL']+=1\n",
    "    plot_n[row['PLOT']][row['INVYR']][row['SPGRPCD']]+=1\n",
    "    plot_s[row['PLOT']][row['INVYR']][row['SPGRPCD']].add(row['SUBP'])\n",
    "    plot_st[row['PLOT']][row['INVYR']].add(row['SUBP'])\n",
    "    if (np.isnan(row['DIA'])):            \n",
    "        if (np.isnan(row['DIACALC'])):\n",
    "            plot_a[row['PLOT']][row['INVYR']]['TOTAL']+=3.141592653*row['PREVDIA']*row['PREVDIA']/4\n",
    "            plot_a[row['PLOT']][row['INVYR']][row['SPGRPCD']]+=3.141592653*row['PREVDIA']*row['PREVDIA']/4\n",
    "        else:\n",
    "            plot_a[row['PLOT']][row['INVYR']]['TOTAL']+=3.141592653*row['DIACALC']*row['DIACALC']/4\n",
    "            plot_a[row['PLOT']][row['INVYR']][row['SPGRPCD']]+=3.141592653*row['DIACALC']*row['DIACALC']/4\n",
    "    else:\n",
    "        plot_a[row['PLOT']][row['INVYR']]['TOTAL']+=3.141592653*row['DIA']*row['DIA']/4\n",
    "        plot_a[row['PLOT']][row['INVYR']][row['SPGRPCD']]+=3.141592653*row['DIA']*row['DIA']/4"
   ]
  },
  {
   "cell_type": "code",
   "execution_count": null,
   "metadata": {
    "collapsed": false
   },
   "outputs": [],
   "source": [
    "#plot_f stores the frequency of a species (subplots it appears in)/(number of subplots)\n",
    "plot_f=defaultdict(lambda:defaultdict(lambda:defaultdict(float)))\n",
    "for plot,a1 in plot_s.iteritems():\n",
    "    for year,a2 in plot_s[plot].iteritems():\n",
    "        for species,count in plot_s[plot][year].iteritems():\n",
    "            plot_f[plot][year][species]=len(plot_s[plot][year][species])/float(len(plot_st[plot][year]))\n",
    "            plot_f[plot][year]['TOTAL']+=len(plot_s[plot][year][species])/float(len(plot_st[plot][year]))"
   ]
  },
  {
   "cell_type": "code",
   "execution_count": null,
   "metadata": {
    "collapsed": false
   },
   "outputs": [],
   "source": [
    "#plot_i stores the importance value of a species (average of relative frequency, relative area and relative density)\n",
    "plot_i=defaultdict(lambda:defaultdict(lambda:defaultdict(float)))\n",
    "for plot,a1 in plot_n.iteritems():\n",
    "    for year,a2 in plot_n[plot].iteritems():\n",
    "        for species,count in plot_n[plot][year].iteritems():\n",
    "            plot_i[plot][year][species]=plot_n[plot][year][species]/float(3*plot_n[plot][year]['TOTAL'])\n",
    "for plot,a1 in plot_a.iteritems():\n",
    "    for year,a2 in plot_a[plot].iteritems():\n",
    "        for species,count in plot_a[plot][year].iteritems():\n",
    "            plot_i[plot][year][species]+=plot_a[plot][year][species]/(3*plot_a[plot][year]['TOTAL'])\n",
    "for plot,a1 in plot_f.iteritems():\n",
    "    for year,a2 in plot_f[plot].iteritems():\n",
    "        for species,count in plot_f[plot][year].iteritems():\n",
    "            plot_i[plot][year][species]+=plot_f[plot][year][species]/(3*plot_f[plot][year]['TOTAL'])"
   ]
  },
  {
   "cell_type": "code",
   "execution_count": null,
   "metadata": {
    "collapsed": false
   },
   "outputs": [],
   "source": [
    "#s_spec stores the numbers being used as species codes\n",
    "#n_rows stores plot*time, i.e. the number of rows the frame will need\n",
    "s_spec=set()\n",
    "n_rows=0\n",
    "for plot,a1 in plot_f.iteritems():\n",
    "    for year,a2 in plot_f[plot].iteritems():\n",
    "        n_rows+=1\n",
    "        for species,count in plot_f[plot][year].iteritems():\n",
    "            if (species!='TOTAL'):\n",
    "                s_spec.add(species)"
   ]
  },
  {
   "cell_type": "code",
   "execution_count": null,
   "metadata": {
    "collapsed": false
   },
   "outputs": [],
   "source": [
    "#l_data are the columns of the frame (number of trees, area and each of the importance values)\n",
    "l_data=['PLOT','YEAR','TREES','AREA']\n",
    "for num in s_spec:\n",
    "    l_data.append('IV'+str(int(num)))"
   ]
  },
  {
   "cell_type": "code",
   "execution_count": 1,
   "metadata": {
    "collapsed": false
   },
   "outputs": [
    {
     "ename": "NameError",
     "evalue": "name 'plot_n' is not defined",
     "output_type": "error",
     "traceback": [
      "\u001b[1;31m---------------------------------------------------------------------------\u001b[0m",
      "\u001b[1;31mNameError\u001b[0m                                 Traceback (most recent call last)",
      "\u001b[1;32m<ipython-input-1-2a4caac17d32>\u001b[0m in \u001b[0;36m<module>\u001b[1;34m()\u001b[0m\n\u001b[0;32m      1\u001b[0m \u001b[1;32mimport\u001b[0m \u001b[0mjson\u001b[0m\u001b[1;33m\u001b[0m\u001b[0m\n\u001b[0;32m      2\u001b[0m \u001b[1;32mwith\u001b[0m \u001b[0mopen\u001b[0m\u001b[1;33m(\u001b[0m\u001b[1;34m'data/density.txt'\u001b[0m\u001b[1;33m,\u001b[0m \u001b[1;34m'w'\u001b[0m\u001b[1;33m)\u001b[0m \u001b[1;32mas\u001b[0m \u001b[0moutfile\u001b[0m\u001b[1;33m:\u001b[0m\u001b[1;33m\u001b[0m\u001b[0m\n\u001b[1;32m----> 3\u001b[1;33m     \u001b[0mjson\u001b[0m\u001b[1;33m.\u001b[0m\u001b[0mdump\u001b[0m\u001b[1;33m(\u001b[0m\u001b[0mplot_n\u001b[0m\u001b[1;33m,\u001b[0m \u001b[0moutfile\u001b[0m\u001b[1;33m)\u001b[0m\u001b[1;33m\u001b[0m\u001b[0m\n\u001b[0m\u001b[0;32m      4\u001b[0m \u001b[1;32mwith\u001b[0m \u001b[0mopen\u001b[0m\u001b[1;33m(\u001b[0m\u001b[1;34m'data/coverage.txt'\u001b[0m\u001b[1;33m,\u001b[0m \u001b[1;34m'w'\u001b[0m\u001b[1;33m)\u001b[0m \u001b[1;32mas\u001b[0m \u001b[0moutfile\u001b[0m\u001b[1;33m:\u001b[0m\u001b[1;33m\u001b[0m\u001b[0m\n\u001b[0;32m      5\u001b[0m     \u001b[0mjson\u001b[0m\u001b[1;33m.\u001b[0m\u001b[0mdump\u001b[0m\u001b[1;33m(\u001b[0m\u001b[0mplot_a\u001b[0m\u001b[1;33m,\u001b[0m \u001b[0moutfile\u001b[0m\u001b[1;33m)\u001b[0m\u001b[1;33m\u001b[0m\u001b[0m\n",
      "\u001b[1;31mNameError\u001b[0m: name 'plot_n' is not defined"
     ]
    }
   ],
   "source": [
    "import json\n",
    "with open('data/density.txt', 'w') as outfile:\n",
    "    json.dump(plot_n, outfile)\n",
    "with open('data/coverage.txt', 'w') as outfile:\n",
    "    json.dump(plot_a, outfile)\n",
    "with open('data/importance.txt', 'w') as outfile:\n",
    "    json.dump(plot_i, outfile)"
   ]
  }
 ],
 "metadata": {
  "kernelspec": {
   "display_name": "Python 3",
   "language": "python",
   "name": "python3"
  },
  "language_info": {
   "codemirror_mode": {
    "name": "ipython",
    "version": 3
   },
   "file_extension": ".py",
   "mimetype": "text/x-python",
   "name": "python",
   "nbconvert_exporter": "python",
   "pygments_lexer": "ipython3",
   "version": "3.5.1+"
  }
 },
 "nbformat": 4,
 "nbformat_minor": 0
}
