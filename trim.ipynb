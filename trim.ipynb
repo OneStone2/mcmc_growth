{
 "cells": [
  {
   "cell_type": "code",
   "execution_count": null,
   "metadata": {
    "collapsed": true
   },
   "outputs": [],
   "source": [
    "import pandas as pd\n",
    "from pandas import DataFrame, read_csv\n",
    "import numpy as np\n",
    "import bisect"
   ]
  },
  {
   "cell_type": "code",
   "execution_count": null,
   "metadata": {
    "collapsed": false
   },
   "outputs": [],
   "source": [
    "DATA_RAW_CSV = 'data/output_raw.csv'\n",
    "data_points = pd.read_csv(DATA_RAW_CSV)"
   ]
  },
  {
   "cell_type": "code",
   "execution_count": null,
   "metadata": {
    "collapsed": false
   },
   "outputs": [],
   "source": [
    "#Split plots whenever a forest doubles its number of trees\n",
    "#or loses at least half\n",
    "prev_tpa = None\n",
    "prev_plot = None\n",
    "prev_seq = 0\n",
    "for i, row in data_points.iterrows():\n",
    "    if prev_plot != int(row['py'] / 10000):\n",
    "        prev_seq += 1\n",
    "        prev_plot = int(row['py'] / 10000)\n",
    "    else:\n",
    "        if (prev_tpa * 2 < row['tpa']) or (prev_tpa / 2 > row['tpa']):\n",
    "            prev_seq += 1\n",
    "    data_points.loc[i, 'new'] = prev_seq\n",
    "    prev_tpa = row['tpa']"
   ]
  },
  {
   "cell_type": "code",
   "execution_count": null,
   "metadata": {
    "collapsed": false
   },
   "outputs": [],
   "source": [
    "#Renumber the rows to make the spliiting effective\n",
    "data_points.index = (data_points.loc[:, 'py'] % 10000 + data_points.loc[:,'new'] * 10000).apply(int)"
   ]
  },
  {
   "cell_type": "code",
   "execution_count": null,
   "metadata": {
    "collapsed": true
   },
   "outputs": [],
   "source": [
    "#Remove entries with few trees\n",
    "MIN_TREES = 5\n",
    "data_points = data_points[data_points['samples'] >= MIN_TREES]"
   ]
  },
  {
   "cell_type": "code",
   "execution_count": null,
   "metadata": {
    "collapsed": false
   },
   "outputs": [],
   "source": [
    "#Drop samples, new and py.  They're not necessary anymore\n",
    "data_points = data_points.drop(['samples', 'new', 'py'], axis = 1)"
   ]
  },
  {
   "cell_type": "code",
   "execution_count": null,
   "metadata": {
    "collapsed": false
   },
   "outputs": [],
   "source": [
    "#Remove plots for which there is only a single measurement in time\n",
    "keep_rows = []\n",
    "prev_plot = None\n",
    "valid = False\n",
    "for py, row in data_points.iterrows():\n",
    "    if (prev_plot is None) or (int(prev_plot / 10000) != int(py / 10000)):\n",
    "        if valid:\n",
    "            keep_rows.append(prev_plot)\n",
    "        valid = False\n",
    "    else:\n",
    "        keep_rows.append(prev_plot)\n",
    "        valid = True\n",
    "    prev_plot = py\n",
    "data_points = data_points.loc[keep_rows]"
   ]
  },
  {
   "cell_type": "code",
   "execution_count": null,
   "metadata": {
    "collapsed": false
   },
   "outputs": [],
   "source": [
    "#Find which species are the most important\n",
    "#Keep top importance values that add up to MIN_IV\n",
    "MIN_IV = 0.5\n",
    "keep_cols = [col for col in list(data_points) if not col.startswith('iv')]\n",
    "col_iv = [col for col in list(data_points) if col.startswith('iv')]\n",
    "sorted_iv = data_points[col_iv].apply(sum, axis=0).sort_values(ascending=False)\n",
    "cutoff = bisect.bisect_left(np.cumsum(sorted_iv), len(data_points.index) * MIN_IV) +1\n",
    "#Add 1 to the cutoff so the total IV is guaranteed to be over MIN_IV\n",
    "for i in np.arange(cutoff):\n",
    "    keep_cols.append(sorted_iv.index[i])  \n",
    "data_points = data_points.loc[:, keep_cols]"
   ]
  },
  {
   "cell_type": "code",
   "execution_count": null,
   "metadata": {
    "collapsed": false
   },
   "outputs": [],
   "source": [
    "#Then, add py back in\n",
    "data_points.reset_index(inplace=True)"
   ]
  },
  {
   "cell_type": "code",
   "execution_count": null,
   "metadata": {
    "collapsed": false
   },
   "outputs": [],
   "source": [
    "DATA_CLEAN_CSV = 'data/forest.csv'\n",
    "data_points.to_csv(DATA_CLEAN_CSV, index=False)"
   ]
  }
 ],
 "metadata": {
  "kernelspec": {
   "display_name": "Python 2",
   "language": "python",
   "name": "python2"
  },
  "language_info": {
   "codemirror_mode": {
    "name": "ipython",
    "version": 2
   },
   "file_extension": ".py",
   "mimetype": "text/x-python",
   "name": "python",
   "nbconvert_exporter": "python",
   "pygments_lexer": "ipython2",
   "version": "2.7.6"
  }
 },
 "nbformat": 4,
 "nbformat_minor": 0
}
