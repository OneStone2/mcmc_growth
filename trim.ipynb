{
 "cells": [
  {
   "cell_type": "code",
   "execution_count": null,
   "metadata": {
    "collapsed": true
   },
   "outputs": [],
   "source": [
    "import pandas as pd\n",
    "from pandas import DataFrame, read_csv\n",
    "import numpy as np\n",
    "import bisect"
   ]
  },
  {
   "cell_type": "code",
   "execution_count": null,
   "metadata": {
    "collapsed": true
   },
   "outputs": [],
   "source": [
    "def check(row):\n",
    "    \"\"\"\n",
    "    Checks for human intervention in a plot\n",
    "    \"\"\"\n",
    "    if (row['DSTRBCD1'] == 80.0):\n",
    "        return True\n",
    "    if (row['DSTRBCD2'] == 80.0):\n",
    "        return True\n",
    "    if (row['DSTRBCD3'] == 80.0):\n",
    "        return True\n",
    "    if (row['TRTCD1'] == 10.0):\n",
    "        return True\n",
    "    if (row['TRTCD1'] == 30.0):\n",
    "        return True\n",
    "    if (row['TRTCD1'] == 50.0):\n",
    "        return True\n",
    "    if (row['TRTCD2'] == 10.0):\n",
    "        return True\n",
    "    if (row['TRTCD2'] == 30.0):\n",
    "        return True\n",
    "    if (row['TRTCD2'] == 50.0):\n",
    "        return True\n",
    "    if (row['TRTCD3'] == 10.0):\n",
    "        return True\n",
    "    if (row['TRTCD3'] == 30.0):\n",
    "        return True\n",
    "    if (row['TRTCD3'] == 50.0):\n",
    "        return True\n",
    "    return False"
   ]
  },
  {
   "cell_type": "code",
   "execution_count": null,
   "metadata": {
    "collapsed": false
   },
   "outputs": [],
   "source": []
  },
  {
   "cell_type": "code",
   "execution_count": null,
   "metadata": {
    "collapsed": false
   },
   "outputs": [],
   "source": [
    "for STATE in ['ME']:\n",
    "    clean(STATE, b=True)"
   ]
  },
  {
   "cell_type": "code",
   "execution_count": null,
   "metadata": {
    "collapsed": true
   },
   "outputs": [],
   "source": [
    "'AL','AZ','AR','CA','CO','CT','DE','DC','FL','GA','ID','IL','IA','KS','KY','LA','ME','MD','MA','MI','MN','MS','MO','MT','NE','NV','NH','NJ','NM','NY','NC','ND','OH','OK','OR','PA','RI','SC','SD','TN','TX','UT','VT','VA','WA','WI','WY'"
   ]
  }
 ],
 "metadata": {
  "kernelspec": {
   "display_name": "Python 2",
   "language": "python",
   "name": "python2"
  },
  "language_info": {
   "codemirror_mode": {
    "name": "ipython",
    "version": 2
   },
   "file_extension": ".py",
   "mimetype": "text/x-python",
   "name": "python",
   "nbconvert_exporter": "python",
   "pygments_lexer": "ipython2",
   "version": "2.7.6"
  }
 },
 "nbformat": 4,
 "nbformat_minor": 0
}
