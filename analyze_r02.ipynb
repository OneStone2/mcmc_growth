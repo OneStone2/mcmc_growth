{
 "cells": [
  {
   "cell_type": "code",
   "execution_count": null,
   "metadata": {
    "collapsed": false
   },
   "outputs": [],
   "source": [
    "import pandas as pd\n",
    "import numpy as np\n",
    "from scipy import stats\n",
    "import seaborn as sns\n",
    "import random\n",
    "import math"
   ]
  },
  {
   "cell_type": "code",
   "execution_count": null,
   "metadata": {
    "collapsed": true
   },
   "outputs": [],
   "source": [
    "def analyze_r02(state, human, time):\n",
    "    if human:\n",
    "        DATA_CSV = 'data/'+state+'_2a.csv'\n",
    "    else:\n",
    "        DATA_CSV = 'data/'+state+'_2b.csv'\n",
    "    data_points = pd.read_csv(DATA_CSV)\n",
    "    nr1 = data_points['carb']\n",
    "    nr1 = nr1.iloc[1:len(nr1)]\n",
    "    nr2 = data_points['py']\n",
    "    nr2 = nr2.iloc[1:len(nr2)]\n",
    "    data_points = data_points.iloc[0:len(data_points.index)-1]\n",
    "    nr1.index = np.arange(len(nr1.index))\n",
    "    nr2.index = np.arange(len(nr2.index))\n",
    "    if time:\n",
    "        data_points.loc[:,'growth'] = (nr1 - data_points['carb']) / (nr2 - data_points['py'])\n",
    "    else:\n",
    "        data_points.loc[:,'growth'] = nr1\n",
    "    data_points.loc[:,'post_py'] = nr2\n",
    "    data_points = data_points[data_points.post_py // 10000 == data_points.py // 10000]\n",
    "    data_points.drop(['py','post_py'], axis=1, inplace=True)\n",
    "    data_points.index = np.arange(len(data_points.index))\n",
    "    data_points = data_points.loc[:,['carb','growth']]\n",
    "    N_GROUPS = 10\n",
    "    random.shuffle(data_points)\n",
    "    groups = []\n",
    "    prev_cutoff = 0\n",
    "    for i in np.arange(N_GROUPS):\n",
    "        next_cutoff = (i + 1) * len(data_points) / N_GROUPS\n",
    "        groups.append(data_points[prev_cutoff:next_cutoff])\n",
    "        prev_cutoff = next_cutoff\n",
    "    min_mse = float(\"inf\")\n",
    "    for i in np.arange(N_GROUPS):\n",
    "        training = []\n",
    "        test = []\n",
    "        for j, group in enumerate(groups):\n",
    "            if j==i:\n",
    "                test = group\n",
    "            else:\n",
    "                training.extend(group)\n",
    "        training = np.array(training)\n",
    "        m = stats.linregress(training).slope\n",
    "        n = stats.linregress(training).intercept\n",
    "        sq_error = 0.0\n",
    "        for elem in test:\n",
    "            predicted = m * elem[0] + n\n",
    "            actual = elem[1]\n",
    "            sq_error += (actual - predicted) ** 2\n",
    "        mse = math.sqrt(sq_error/len(test))\n",
    "        if (mse < min_mse):\n",
    "            min_mse = mse\n",
    "    return min_mse"
   ]
  },
  {
   "cell_type": "code",
   "execution_count": null,
   "metadata": {
    "collapsed": true
   },
   "outputs": [],
   "source": [
    "STATE = 'ME'\n",
    "print analyze_r02(STATE, True, True)"
   ]
  }
 ],
 "metadata": {
  "kernelspec": {
   "display_name": "Python 2",
   "language": "python",
   "name": "python2"
  },
  "language_info": {
   "codemirror_mode": {
    "name": "ipython",
    "version": 2
   },
   "file_extension": ".py",
   "mimetype": "text/x-python",
   "name": "python",
   "nbconvert_exporter": "python",
   "pygments_lexer": "ipython2",
   "version": "2.7.6"
  }
 },
 "nbformat": 4,
 "nbformat_minor": 0
}
