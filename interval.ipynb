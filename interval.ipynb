{
 "cells": [
  {
   "cell_type": "code",
   "execution_count": null,
   "metadata": {
    "collapsed": false
   },
   "outputs": [],
   "source": [
    "import pandas as pd\n",
    "import numpy as np\n",
    "import seaborn as sns\n",
    "import random\n",
    "import math\n",
    "from sklearn import linear_model"
   ]
  },
  {
   "cell_type": "code",
   "execution_count": null,
   "metadata": {
    "collapsed": false
   },
   "outputs": [],
   "source": [
    "def interval(state, version):\n",
    "    \"\"\"\n",
    "    Construct a table of state transitions\n",
    "    \"\"\"\n",
    "    in_file = 'data/'+state+'_2'+version+'.csv'\n",
    "    out_file = 'data/'+state+'_3'+version+'.csv'\n",
    "    raw_points = pd.read_csv(in_file, index_col='py')\n",
    "    prev_py = None\n",
    "    prev_carb = None\n",
    "    data_points = []\n",
    "    transitions = dict()\n",
    "    i = 0\n",
    "    for py, row in raw_points.iterrows():\n",
    "        if (prev_py != None) and (prev_py // 10000 == py // 10000):\n",
    "            diff_y = py - prev_py\n",
    "            nr = row.copy()\n",
    "            nr['growth'] = (nr['carb'] - prev_carb) / diff_y\n",
    "            nr['carb'] = prev_carb\n",
    "            transitions[i] = nr * diff_y\n",
    "            i += 1\n",
    "        prev_py = py\n",
    "        prev_carb = row['carb']\n",
    "    df = pd.DataFrame(transitions).T\n",
    "    df = df.loc[:,['growth','carb','lat','lon']]\n",
    "    df.to_csv(out_file, index=False)"
   ]
  },
  {
   "cell_type": "code",
   "execution_count": null,
   "metadata": {
    "collapsed": false
   },
   "outputs": [],
   "source": [
    "STATE = 'ME'\n",
    "interval(STATE, 'a')\n",
    "interval(STATE, 'b')"
   ]
  }
 ],
 "metadata": {
  "kernelspec": {
   "display_name": "Python 2",
   "language": "python",
   "name": "python2"
  },
  "language_info": {
   "codemirror_mode": {
    "name": "ipython",
    "version": 2
   },
   "file_extension": ".py",
   "mimetype": "text/x-python",
   "name": "python",
   "nbconvert_exporter": "python",
   "pygments_lexer": "ipython2",
   "version": "2.7.6"
  }
 },
 "nbformat": 4,
 "nbformat_minor": 0
}
