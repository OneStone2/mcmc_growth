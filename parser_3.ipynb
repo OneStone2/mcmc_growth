{
 "cells": [
  {
   "cell_type": "code",
   "execution_count": null,
   "metadata": {
    "collapsed": false
   },
   "outputs": [],
   "source": [
    "from pandas import DataFrame, read_csv\n",
    "from collections import defaultdict\n",
    "import pandas as pd\n",
    "import numpy as np\n",
    "import math\n",
    "\n",
    "trees_csv = 'data/ME_TREE.csv'\n",
    "trees_df = pd.read_csv(trees_csv,usecols=['INVYR','PLOT','SUBP','SPGRPCD','DIA','DIACALC','PREVDIA'])"
   ]
  },
  {
   "cell_type": "code",
   "execution_count": null,
   "metadata": {
    "collapsed": false
   },
   "outputs": [],
   "source": [
    "\"\"\"\n",
    "plots: {\n",
    "    <plot_num>: {\n",
    "        <year>: {\n",
    "            <species_code>: {\n",
    "                'trees_num': <num>,\n",
    "                'basal_area': <ba>,\n",
    "                'frequency': <freq>,\n",
    "                'importance_value': <iv>\n",
    "             }\n",
    "         }\n",
    "     }\n",
    "}\n",
    "\n",
    "plot_subp: {\n",
    "    <plot_num>: {\n",
    "        <year>: {\n",
    "            <species_code>: {\n",
    "                set(subplots)\n",
    "            }\n",
    "        }\n",
    "    }\n",
    " }\n",
    "\n",
    "\"\"\"\n",
    "#The set stores in which subplots does the species appear\n",
    "#Both plots and plots_subp have 'TOTAL' as a species code.  It stores the sum of all the species\n",
    "#This step takes a while (96 seconds in Athena computer)\n",
    "plots = defaultdict(lambda:defaultdict(lambda:defaultdict(lambda:defaultdict(float))))\n",
    "plots_subp = defaultdict(lambda:defaultdict(lambda:defaultdict(set)))\n",
    "for i, row in trees_df.iterrows():\n",
    "    plots[row['PLOT']][row['INVYR']]['TOTAL']['num'] += 1\n",
    "    plots[row['PLOT']][row['INVYR']][row['SPGRPCD']]['num'] += 1\n",
    "    plots_subp[row['PLOT']][row['INVYR']][row['SPGRPCD']].add(row['SUBP'])\n",
    "    plots_subp[row['PLOT']][row['INVYR']]['TOTAL'].add(row['SUBP'])\n",
    "    \n",
    "    if not np.isnan(row['DIA']):\n",
    "        dia = row['DIA']\n",
    "    else:\n",
    "        dia = row['DIACALC'] if not np.isnan(row['DIACALC']) else row['PREVDIA']\n",
    "        \n",
    "    plots[row['PLOT']][row['INVYR']]['TOTAL']['ba'] += math.pi*(dia**2)/4\n",
    "    plots[row['PLOT']][row['INVYR']][row['SPGRPCD']]['ba'] += math.pi*(dia**2)/4"
   ]
  },
  {
   "cell_type": "code",
   "execution_count": null,
   "metadata": {
    "collapsed": false
   },
   "outputs": [],
   "source": [
    "for plot, a1 in plots_subp.iteritems():\n",
    "    for year, a2 in plots_subp[plot].iteritems():\n",
    "        for species, count in plots_subp[plot][year].iteritems():\n",
    "            plots[plot][year][species]['freq'] = len(plots_subp[plot][year][species])/float(len(plots_subp[plot][year]['TOTAL']))\n",
    "            plots[plot][year]['TOTAL']['freq'] += len(plots_subp[plot][year][species])/float(len(plots_subp[plot][year]['TOTAL']))"
   ]
  },
  {
   "cell_type": "code",
   "execution_count": null,
   "metadata": {
    "collapsed": false
   },
   "outputs": [],
   "source": [
    "for plot, a1 in plots.iteritems():\n",
    "    for year, a2 in plots[plot].iteritems():\n",
    "        for species, a3 in plots[plot][year].iteritems():\n",
    "            plots[plot][year][species]['iv'] = (plots[plot][year][species]['freq']/(3.0*plots[plot][year]['TOTAL']['freq']) \n",
    "                                             + plots[plot][year][species]['ba']/(3.0*plots[plot][year]['TOTAL']['ba']) \n",
    "                                             + plots[plot][year][species]['num']/(3.0*plots[plot][year]['TOTAL']['num']))"
   ]
  },
  {
   "cell_type": "code",
   "execution_count": null,
   "metadata": {
    "collapsed": false
   },
   "outputs": [],
   "source": [
    "import json\n",
    "with open('data/points.json', 'w') as outfile:\n",
    "    json.dump(plots,outfile)"
   ]
  },
  {
   "cell_type": "code",
   "execution_count": null,
   "metadata": {
    "collapsed": false
   },
   "outputs": [],
   "source": [
    "remap=dict()\n",
    "cur=4\n",
    "num_plots=0\n",
    "for plot, a1 in plots.iteritems():\n",
    "    for year, a2 in plots[plot].iteritems():\n",
    "        num_plots += 1\n",
    "        for species, a3 in plots[plot][year].iteritems():\n",
    "            if species not in remap and species!='TOTAL':\n",
    "                remap[species]=cur\n",
    "                cur+=1\n",
    "data_points = pd.DataFrame(0.0, index=np.arange(num_plots), columns=np.arange(cur))\n",
    "cur=0\n",
    "for plot, a1 in plots.iteritems():\n",
    "    for year, a2 in plots[plot].iteritems():\n",
    "        data_points.iloc[cur][0] = plot\n",
    "        data_points.iloc[cur][1] = year\n",
    "        data_points.iloc[cur][2] = plots[plot][year]['TOTAL']['num']\n",
    "        data_points.iloc[cur][3] = plots[plot][year]['TOTAL']['ba']\n",
    "        for species, a3 in plots[plot][year].iteritems():\n",
    "            if (species!='TOTAL'): data_points.iloc[cur][remap[species]] = plots[plot][year][species]['iv']\n",
    "        cur+=1\n",
    "data_points.to_csv('data/points.csv',index=False,header=False)"
   ]
  }
 ],
 "metadata": {
  "kernelspec": {
   "display_name": "Python 3",
   "language": "python",
   "name": "python3"
  },
  "language_info": {
   "codemirror_mode": {
    "name": "ipython",
    "version": 3
   },
   "file_extension": ".py",
   "mimetype": "text/x-python",
   "name": "python",
   "nbconvert_exporter": "python",
   "pygments_lexer": "ipython3",
   "version": "3.5.1+"
  }
 },
 "nbformat": 4,
 "nbformat_minor": 0
}
